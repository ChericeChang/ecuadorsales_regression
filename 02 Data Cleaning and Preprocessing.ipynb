{
 "cells": [
  {
   "cell_type": "markdown",
   "id": "ffb84c6c",
   "metadata": {},
   "source": [
    "# Step 2 Data Cleaning and Preprocessing\n",
    "## 0. Importing libraries and data\n",
    "\n",
    "The data provided are contained in the folder 'data'. The folder contains 7 files:<br>\n",
    "\n",
    "    1. holidays_events.csv\n",
    "    2. oil.csv\n",
    "    3. sample_submission.csv\n",
    "    4. stores.csv\n",
    "    5. test.csv\n",
    "    6. train.csv\n",
    "    7. transactions\n",
    "    \n",
    "    \n",
    "# check column names\n",
    "holidays_events.columns\n",
    "# check data type \n",
    "holidays_events.dtypes\n",
    "# update date data type\n",
    "holidays_events['date'] = pd.to_datetime(holidays_events['date'])\n",
    "# new data type\n",
    "holidays_events.dtypes\n",
    "# null values\n",
    "holidays_events.isnull().sum()\n",
    "# summary data\n",
    "holidays_events.describe()\n",
    "\n",
    "#no null values but are there weird unique values like 'empty' or '0000' that doesn't mean anything?\n",
    "\n",
    "for col in holidays_events.columns:\n",
    "    holidays_events[col].value_counts().sort_values().plot(kind = 'barh')\n",
    "    plt.title(col)\n",
    "    plt.show()"
   ]
  },
  {
   "cell_type": "code",
   "execution_count": null,
   "id": "8557f98d",
   "metadata": {},
   "outputs": [],
   "source": [
    "holidays_events['date'] = pd.to_datetime(holidays_events['date'])\n",
    "\n",
    "test['date'] = pd.to_datetime(test['date'])\n",
    "train['date'] = pd.to_datetime(train['date'])"
   ]
  }
 ],
 "metadata": {
  "kernelspec": {
   "display_name": "Python 3 (ipykernel)",
   "language": "python",
   "name": "python3"
  },
  "language_info": {
   "codemirror_mode": {
    "name": "ipython",
    "version": 3
   },
   "file_extension": ".py",
   "mimetype": "text/x-python",
   "name": "python",
   "nbconvert_exporter": "python",
   "pygments_lexer": "ipython3",
   "version": "3.9.5"
  }
 },
 "nbformat": 4,
 "nbformat_minor": 5
}
