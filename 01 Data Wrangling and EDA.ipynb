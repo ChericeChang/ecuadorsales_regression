{
 "cells": [
  {
   "cell_type": "markdown",
   "id": "ddf13543",
   "metadata": {},
   "source": [
    "# Step 1 EDA and Data Wrangling\n",
    "## 0. Importing libraries and data\n",
    "\n",
    "The data provided are contained in the folder 'data'. The folder contains 7 files:<br>\n",
    "\n",
    "    1. holidays_events.csv\n",
    "    2. oil.csv\n",
    "    3. sample_submission.csv\n",
    "    4. stores.csv\n",
    "    5. test.csv\n",
    "    6. train.csv\n",
    "    7. transactions"
   ]
  },
  {
   "cell_type": "markdown",
   "id": "a7b7f6da",
   "metadata": {},
   "source": [
    "### import libraries"
   ]
  },
  {
   "cell_type": "code",
   "execution_count": 1,
   "id": "b90126a3",
   "metadata": {},
   "outputs": [],
   "source": [
    "import pandas as pd\n",
    "import numpy as np\n",
    "import matplotlib.pyplot as plt\n",
    "import seaborn as sns"
   ]
  },
  {
   "cell_type": "markdown",
   "id": "972066a8",
   "metadata": {},
   "source": [
    "### import gists"
   ]
  },
  {
   "cell_type": "code",
   "execution_count": 2,
   "id": "71578a0f",
   "metadata": {},
   "outputs": [],
   "source": [
    "def understand_data_shapes(df):\n",
    "    print('\\n\\n---------------{}---------------'.format(df.name))\n",
    "    print('This dataframe contains {} rows, and {} columns'.format(df.shape[0], df.shape[1]))\n",
    "    print('\\n',df.head())"
   ]
  },
  {
   "cell_type": "markdown",
   "id": "f8055b84",
   "metadata": {},
   "source": [
    "### import data"
   ]
  },
  {
   "cell_type": "code",
   "execution_count": 3,
   "id": "e51adb15",
   "metadata": {},
   "outputs": [],
   "source": [
    "holidays_events = pd.read_csv(r'data/raw/holidays_events.csv')\n",
    "holidays_events.name = 'holidays_events'\n",
    "\n",
    "oil = pd.read_csv(r'data/raw/oil.csv')\n",
    "oil.name = 'oil'\n",
    "\n",
    "sample_submission = pd.read_csv(r'data/raw/sample_submission.csv')\n",
    "sample_submission.name = 'sample_submission'\n",
    "\n",
    "stores = pd.read_csv(r'data/raw/stores.csv')\n",
    "stores.name = 'stores'\n",
    "\n",
    "test = pd.read_csv(r'data/raw/test.csv')\n",
    "test.name = 'test'\n",
    "\n",
    "train = pd.read_csv(r'data/raw/train.csv')\n",
    "train.name = 'train'\n",
    "\n",
    "transactions = pd.read_csv(r'data/raw/transactions.csv')\n",
    "transactions.name = 'transactions'"
   ]
  },
  {
   "cell_type": "code",
   "execution_count": 4,
   "id": "b7a81f5c",
   "metadata": {},
   "outputs": [],
   "source": [
    "all_dataframe = [holidays_events, oil, sample_submission, stores, test, train, transactions]"
   ]
  },
  {
   "cell_type": "markdown",
   "id": "52383906",
   "metadata": {},
   "source": [
    "## 1. Understand the data shape and column info"
   ]
  },
  {
   "cell_type": "code",
   "execution_count": 5,
   "id": "bb5034c1",
   "metadata": {},
   "outputs": [
    {
     "name": "stdout",
     "output_type": "stream",
     "text": [
      "\n",
      "\n",
      "---------------holidays_events---------------\n",
      "This dataframe contains 350 rows, and 6 columns\n",
      "\n",
      "          date     type    locale locale_name                    description  \\\n",
      "0  2012-03-02  Holiday     Local       Manta             Fundacion de Manta   \n",
      "1  2012-04-01  Holiday  Regional    Cotopaxi  Provincializacion de Cotopaxi   \n",
      "2  2012-04-12  Holiday     Local      Cuenca            Fundacion de Cuenca   \n",
      "3  2012-04-14  Holiday     Local    Libertad      Cantonizacion de Libertad   \n",
      "4  2012-04-21  Holiday     Local    Riobamba      Cantonizacion de Riobamba   \n",
      "\n",
      "   transferred  \n",
      "0        False  \n",
      "1        False  \n",
      "2        False  \n",
      "3        False  \n",
      "4        False  \n",
      "\n",
      "\n",
      "---------------oil---------------\n",
      "This dataframe contains 1218 rows, and 2 columns\n",
      "\n",
      "          date  dcoilwtico\n",
      "0  2013-01-01         NaN\n",
      "1  2013-01-02       93.14\n",
      "2  2013-01-03       92.97\n",
      "3  2013-01-04       93.12\n",
      "4  2013-01-07       93.20\n",
      "\n",
      "\n",
      "---------------sample_submission---------------\n",
      "This dataframe contains 28512 rows, and 2 columns\n",
      "\n",
      "         id  sales\n",
      "0  3000888    0.0\n",
      "1  3000889    0.0\n",
      "2  3000890    0.0\n",
      "3  3000891    0.0\n",
      "4  3000892    0.0\n",
      "\n",
      "\n",
      "---------------stores---------------\n",
      "This dataframe contains 54 rows, and 5 columns\n",
      "\n",
      "    store_nbr           city                           state type  cluster\n",
      "0          1          Quito                       Pichincha    D       13\n",
      "1          2          Quito                       Pichincha    D       13\n",
      "2          3          Quito                       Pichincha    D        8\n",
      "3          4          Quito                       Pichincha    D        9\n",
      "4          5  Santo Domingo  Santo Domingo de los Tsachilas    D        4\n",
      "\n",
      "\n",
      "---------------test---------------\n",
      "This dataframe contains 28512 rows, and 5 columns\n",
      "\n",
      "         id        date  store_nbr      family  onpromotion\n",
      "0  3000888  2017-08-16          1  AUTOMOTIVE            0\n",
      "1  3000889  2017-08-16          1   BABY CARE            0\n",
      "2  3000890  2017-08-16          1      BEAUTY            2\n",
      "3  3000891  2017-08-16          1   BEVERAGES           20\n",
      "4  3000892  2017-08-16          1       BOOKS            0\n",
      "\n",
      "\n",
      "---------------train---------------\n",
      "This dataframe contains 3000888 rows, and 6 columns\n",
      "\n",
      "    id        date  store_nbr      family  sales  onpromotion\n",
      "0   0  2013-01-01          1  AUTOMOTIVE    0.0            0\n",
      "1   1  2013-01-01          1   BABY CARE    0.0            0\n",
      "2   2  2013-01-01          1      BEAUTY    0.0            0\n",
      "3   3  2013-01-01          1   BEVERAGES    0.0            0\n",
      "4   4  2013-01-01          1       BOOKS    0.0            0\n",
      "\n",
      "\n",
      "---------------transactions---------------\n",
      "This dataframe contains 83488 rows, and 3 columns\n",
      "\n",
      "          date  store_nbr  transactions\n",
      "0  2013-01-01         25           770\n",
      "1  2013-01-02          1          2111\n",
      "2  2013-01-02          2          2358\n",
      "3  2013-01-02          3          3487\n",
      "4  2013-01-02          4          1922\n"
     ]
    }
   ],
   "source": [
    "for dataframe in all_dataframe:\n",
    "    understand_data_shapes(dataframe)"
   ]
  },
  {
   "cell_type": "markdown",
   "id": "57ef0345",
   "metadata": {},
   "source": [
    "## 2. EDA by table"
   ]
  },
  {
   "cell_type": "markdown",
   "id": "7eb4fdc6",
   "metadata": {},
   "source": [
    "### holidays_events\n",
    "\n",
    "#### This dataframe contains 350 rows, and 6 columns\n",
    "\n",
    "Official description:<br>\n",
    "- Holidays and Events, with metadata\n",
    "- NOTE: Pay special attention to the transferred column. A holiday that is transferred officially falls on that calendar day, but was moved to another date by the government. A transferred day is more like a normal day than a holiday. To find the day that it was actually celebrated, look for the corresponding row where type is Transfer. For example, the holiday Independencia de Guayaquil was transferred from 2012-10-09 to 2012-10-12, which means it was celebrated on 2012-10-12. Days that are type Bridge are extra days that are added to a holiday (e.g., to extend the break across a long weekend). These are frequently made up by the type Work Day which is a day not normally scheduled for work (e.g., Saturday) that is meant to payback the Bridge.\n",
    "- Additional holidays are days added a regular calendar holiday, for example, as typically happens around Christmas (making Christmas Eve a holiday)."
   ]
  },
  {
   "cell_type": "code",
   "execution_count": 6,
   "id": "5c973564",
   "metadata": {},
   "outputs": [
    {
     "data": {
      "text/plain": [
       "Index(['date', 'type', 'locale', 'locale_name', 'description', 'transferred'], dtype='object')"
      ]
     },
     "execution_count": 6,
     "metadata": {},
     "output_type": "execute_result"
    }
   ],
   "source": [
    "# check column names\n",
    "holidays_events.columns"
   ]
  },
  {
   "cell_type": "markdown",
   "id": "19f3c4e1",
   "metadata": {},
   "source": [
    "#### data type"
   ]
  },
  {
   "cell_type": "code",
   "execution_count": 7,
   "id": "0dc6471d",
   "metadata": {},
   "outputs": [
    {
     "data": {
      "text/plain": [
       "date           object\n",
       "type           object\n",
       "locale         object\n",
       "locale_name    object\n",
       "description    object\n",
       "transferred      bool\n",
       "dtype: object"
      ]
     },
     "execution_count": 7,
     "metadata": {},
     "output_type": "execute_result"
    }
   ],
   "source": [
    "# check data type \n",
    "holidays_events.dtypes"
   ]
  },
  {
   "cell_type": "code",
   "execution_count": 8,
   "id": "6fd37d86",
   "metadata": {},
   "outputs": [],
   "source": [
    "# update date data type\n",
    "holidays_events['date'] = pd.to_datetime(holidays_events['date'])"
   ]
  },
  {
   "cell_type": "code",
   "execution_count": 9,
   "id": "104ded6f",
   "metadata": {},
   "outputs": [
    {
     "data": {
      "text/plain": [
       "date           datetime64[ns]\n",
       "type                   object\n",
       "locale                 object\n",
       "locale_name            object\n",
       "description            object\n",
       "transferred              bool\n",
       "dtype: object"
      ]
     },
     "execution_count": 9,
     "metadata": {},
     "output_type": "execute_result"
    }
   ],
   "source": [
    "# new data type\n",
    "holidays_events.dtypes"
   ]
  },
  {
   "cell_type": "markdown",
   "id": "90965e3d",
   "metadata": {},
   "source": [
    "interesting, what are the different type of unique value? Does the locale_name match with the train and test data for store location?"
   ]
  },
  {
   "cell_type": "markdown",
   "id": "9fbdbeb1",
   "metadata": {},
   "source": [
    "#### null values?"
   ]
  },
  {
   "cell_type": "code",
   "execution_count": 10,
   "id": "0d3ef279",
   "metadata": {},
   "outputs": [
    {
     "data": {
      "text/plain": [
       "date           0\n",
       "type           0\n",
       "locale         0\n",
       "locale_name    0\n",
       "description    0\n",
       "transferred    0\n",
       "dtype: int64"
      ]
     },
     "execution_count": 10,
     "metadata": {},
     "output_type": "execute_result"
    }
   ],
   "source": [
    "holidays_events.isnull().sum()"
   ]
  },
  {
   "cell_type": "markdown",
   "id": "9ae46496",
   "metadata": {},
   "source": [
    "#### summary data"
   ]
  },
  {
   "cell_type": "code",
   "execution_count": 11,
   "id": "134fb1d0",
   "metadata": {},
   "outputs": [
    {
     "name": "stderr",
     "output_type": "stream",
     "text": [
      "C:\\Users\\cchan\\AppData\\Local\\Temp/ipykernel_17652/1017088249.py:1: FutureWarning: Treating datetime data as categorical rather than numeric in `.describe` is deprecated and will be removed in a future version of pandas. Specify `datetime_is_numeric=True` to silence this warning and adopt the future behavior now.\n",
      "  holidays_events.describe()\n"
     ]
    },
    {
     "data": {
      "text/html": [
       "<div>\n",
       "<style scoped>\n",
       "    .dataframe tbody tr th:only-of-type {\n",
       "        vertical-align: middle;\n",
       "    }\n",
       "\n",
       "    .dataframe tbody tr th {\n",
       "        vertical-align: top;\n",
       "    }\n",
       "\n",
       "    .dataframe thead th {\n",
       "        text-align: right;\n",
       "    }\n",
       "</style>\n",
       "<table border=\"1\" class=\"dataframe\">\n",
       "  <thead>\n",
       "    <tr style=\"text-align: right;\">\n",
       "      <th></th>\n",
       "      <th>date</th>\n",
       "      <th>type</th>\n",
       "      <th>locale</th>\n",
       "      <th>locale_name</th>\n",
       "      <th>description</th>\n",
       "      <th>transferred</th>\n",
       "    </tr>\n",
       "  </thead>\n",
       "  <tbody>\n",
       "    <tr>\n",
       "      <th>count</th>\n",
       "      <td>350</td>\n",
       "      <td>350</td>\n",
       "      <td>350</td>\n",
       "      <td>350</td>\n",
       "      <td>350</td>\n",
       "      <td>350</td>\n",
       "    </tr>\n",
       "    <tr>\n",
       "      <th>unique</th>\n",
       "      <td>312</td>\n",
       "      <td>6</td>\n",
       "      <td>3</td>\n",
       "      <td>24</td>\n",
       "      <td>103</td>\n",
       "      <td>2</td>\n",
       "    </tr>\n",
       "    <tr>\n",
       "      <th>top</th>\n",
       "      <td>2014-06-25 00:00:00</td>\n",
       "      <td>Holiday</td>\n",
       "      <td>National</td>\n",
       "      <td>Ecuador</td>\n",
       "      <td>Carnaval</td>\n",
       "      <td>False</td>\n",
       "    </tr>\n",
       "    <tr>\n",
       "      <th>freq</th>\n",
       "      <td>4</td>\n",
       "      <td>221</td>\n",
       "      <td>174</td>\n",
       "      <td>174</td>\n",
       "      <td>10</td>\n",
       "      <td>338</td>\n",
       "    </tr>\n",
       "    <tr>\n",
       "      <th>first</th>\n",
       "      <td>2012-03-02 00:00:00</td>\n",
       "      <td>NaN</td>\n",
       "      <td>NaN</td>\n",
       "      <td>NaN</td>\n",
       "      <td>NaN</td>\n",
       "      <td>NaN</td>\n",
       "    </tr>\n",
       "    <tr>\n",
       "      <th>last</th>\n",
       "      <td>2017-12-26 00:00:00</td>\n",
       "      <td>NaN</td>\n",
       "      <td>NaN</td>\n",
       "      <td>NaN</td>\n",
       "      <td>NaN</td>\n",
       "      <td>NaN</td>\n",
       "    </tr>\n",
       "  </tbody>\n",
       "</table>\n",
       "</div>"
      ],
      "text/plain": [
       "                       date     type    locale locale_name description  \\\n",
       "count                   350      350       350         350         350   \n",
       "unique                  312        6         3          24         103   \n",
       "top     2014-06-25 00:00:00  Holiday  National     Ecuador    Carnaval   \n",
       "freq                      4      221       174         174          10   \n",
       "first   2012-03-02 00:00:00      NaN       NaN         NaN         NaN   \n",
       "last    2017-12-26 00:00:00      NaN       NaN         NaN         NaN   \n",
       "\n",
       "       transferred  \n",
       "count          350  \n",
       "unique           2  \n",
       "top          False  \n",
       "freq           338  \n",
       "first          NaN  \n",
       "last           NaN  "
      ]
     },
     "execution_count": 11,
     "metadata": {},
     "output_type": "execute_result"
    }
   ],
   "source": [
    "holidays_events.describe()"
   ]
  },
  {
   "cell_type": "code",
   "execution_count": 12,
   "id": "3857fb63",
   "metadata": {},
   "outputs": [
    {
     "data": {
      "image/png": "[encoded data removed]",
      "text/plain": [
       "<Figure size 432x288 with 1 Axes>"
      ]
     },
     "metadata": {
      "needs_background": "light"
     },
     "output_type": "display_data"
    },
    {
     "data": {
      "image/png": "[encoded data removed]",
      "text/plain": [
       "<Figure size 432x288 with 1 Axes>"
      ]
     },
     "metadata": {
      "needs_background": "light"
     },
     "output_type": "display_data"
    },
    {
     "data": {
      "image/png": "[encoded data removed]",
      "text/plain": [
       "<Figure size 432x288 with 1 Axes>"
      ]
     },
     "metadata": {
      "needs_background": "light"
     },
     "output_type": "display_data"
    },
    {
     "data": {
      "image/png": "[encoded data removed]",
      "text/plain": [
       "<Figure size 432x288 with 1 Axes>"
      ]
     },
     "metadata": {
      "needs_background": "light"
     },
     "output_type": "display_data"
    },
    {
     "data": {
      "image/png": "[encoded data removed]",
      "text/plain": [
       "<Figure size 432x288 with 1 Axes>"
      ]
     },
     "metadata": {
      "needs_background": "light"
     },
     "output_type": "display_data"
    },
    {
     "data": {
      "image/png": "[encoded data removed]",
      "text/plain": [
       "<Figure size 432x288 with 1 Axes>"
      ]
     },
     "metadata": {
      "needs_background": "light"
     },
     "output_type": "display_data"
    }
   ],
   "source": [
    "# no null values but are there weird unique values like 'empty' or '0000' that doesn't mean anything?\n",
    "\n",
    "for col in holidays_events.columns:\n",
    "    holidays_events[col].value_counts().sort_values().plot(kind = 'barh')\n",
    "    plt.title(col)\n",
    "    plt.show()"
   ]
  },
  {
   "cell_type": "code",
   "execution_count": 13,
   "id": "76d3ff0a",
   "metadata": {},
   "outputs": [
    {
     "data": {
      "text/plain": [
       "count                              350\n",
       "mean     2015-04-24 00:45:15.428571392\n",
       "min                2012-03-02 00:00:00\n",
       "25%                2013-12-23 06:00:00\n",
       "50%                2015-06-08 00:00:00\n",
       "75%                2016-07-03 00:00:00\n",
       "max                2017-12-26 00:00:00\n",
       "Name: date, dtype: object"
      ]
     },
     "execution_count": 13,
     "metadata": {},
     "output_type": "execute_result"
    }
   ],
   "source": [
    "# what is the date range?\n",
    "\n",
    "holidays_events['date'].describe(datetime_is_numeric=True)"
   ]
  },
  {
   "cell_type": "markdown",
   "id": "452434da",
   "metadata": {},
   "source": [
    "From a brief look, looks like this table is very clean.\n",
    "\n",
    "2 things to check later: #to-do\n",
    "\n",
    "1. does locale translate to store locations in the future?\n",
    "2. is this date range what I expect for the sales data later?"
   ]
  },
  {
   "cell_type": "markdown",
   "id": "6ad83190",
   "metadata": {},
   "source": [
    "### oil\n",
    "#### This dataframe contains 1218 rows, and 2 columns\n",
    "\n",
    "Official descriptions:<br>\n",
    "- Daily oil price. Includes values during both the train and test data timeframes. (Ecuador is an oil-dependent country and it's economical health is highly vulnerable to shocks in oil prices.)"
   ]
  },
  {
   "cell_type": "code",
   "execution_count": 14,
   "id": "77548ae0",
   "metadata": {},
   "outputs": [
    {
     "data": {
      "text/plain": [
       "Index(['date', 'dcoilwtico'], dtype='object')"
      ]
     },
     "execution_count": 14,
     "metadata": {},
     "output_type": "execute_result"
    }
   ],
   "source": [
    "oil.columns"
   ]
  },
  {
   "cell_type": "markdown",
   "id": "869ce3a2",
   "metadata": {},
   "source": [
    "#### update data types"
   ]
  },
  {
   "cell_type": "code",
   "execution_count": 15,
   "id": "3286a7a9",
   "metadata": {},
   "outputs": [
    {
     "data": {
      "text/plain": [
       "date           object\n",
       "dcoilwtico    float64\n",
       "dtype: object"
      ]
     },
     "execution_count": 15,
     "metadata": {},
     "output_type": "execute_result"
    }
   ],
   "source": [
    "oil.dtypes"
   ]
  },
  {
   "cell_type": "code",
   "execution_count": 16,
   "id": "05f6a605",
   "metadata": {},
   "outputs": [],
   "source": [
    "oil['date'] = pd.to_datetime(oil['date'])"
   ]
  },
  {
   "cell_type": "markdown",
   "id": "4463d37b",
   "metadata": {},
   "source": [
    "#### null values"
   ]
  },
  {
   "cell_type": "code",
   "execution_count": 17,
   "id": "2fd6b92a",
   "metadata": {},
   "outputs": [
    {
     "data": {
      "text/plain": [
       "date           0\n",
       "dcoilwtico    43\n",
       "dtype: int64"
      ]
     },
     "execution_count": 17,
     "metadata": {},
     "output_type": "execute_result"
    }
   ],
   "source": [
    "oil.isnull().sum()"
   ]
  },
  {
   "cell_type": "code",
   "execution_count": 18,
   "id": "dbac5f8f",
   "metadata": {},
   "outputs": [
    {
     "data": {
      "text/html": [
       "<div>\n",
       "<style scoped>\n",
       "    .dataframe tbody tr th:only-of-type {\n",
       "        vertical-align: middle;\n",
       "    }\n",
       "\n",
       "    .dataframe tbody tr th {\n",
       "        vertical-align: top;\n",
       "    }\n",
       "\n",
       "    .dataframe thead th {\n",
       "        text-align: right;\n",
       "    }\n",
       "</style>\n",
       "<table border=\"1\" class=\"dataframe\">\n",
       "  <thead>\n",
       "    <tr style=\"text-align: right;\">\n",
       "      <th></th>\n",
       "      <th>date</th>\n",
       "      <th>dcoilwtico</th>\n",
       "    </tr>\n",
       "  </thead>\n",
       "  <tbody>\n",
       "    <tr>\n",
       "      <th>0</th>\n",
       "      <td>2013-01-01</td>\n",
       "      <td>NaN</td>\n",
       "    </tr>\n",
       "    <tr>\n",
       "      <th>14</th>\n",
       "      <td>2013-01-21</td>\n",
       "      <td>NaN</td>\n",
       "    </tr>\n",
       "    <tr>\n",
       "      <th>34</th>\n",
       "      <td>2013-02-18</td>\n",
       "      <td>NaN</td>\n",
       "    </tr>\n",
       "    <tr>\n",
       "      <th>63</th>\n",
       "      <td>2013-03-29</td>\n",
       "      <td>NaN</td>\n",
       "    </tr>\n",
       "    <tr>\n",
       "      <th>104</th>\n",
       "      <td>2013-05-27</td>\n",
       "      <td>NaN</td>\n",
       "    </tr>\n",
       "    <tr>\n",
       "      <th>132</th>\n",
       "      <td>2013-07-04</td>\n",
       "      <td>NaN</td>\n",
       "    </tr>\n",
       "    <tr>\n",
       "      <th>174</th>\n",
       "      <td>2013-09-02</td>\n",
       "      <td>NaN</td>\n",
       "    </tr>\n",
       "    <tr>\n",
       "      <th>237</th>\n",
       "      <td>2013-11-28</td>\n",
       "      <td>NaN</td>\n",
       "    </tr>\n",
       "    <tr>\n",
       "      <th>256</th>\n",
       "      <td>2013-12-25</td>\n",
       "      <td>NaN</td>\n",
       "    </tr>\n",
       "    <tr>\n",
       "      <th>261</th>\n",
       "      <td>2014-01-01</td>\n",
       "      <td>NaN</td>\n",
       "    </tr>\n",
       "    <tr>\n",
       "      <th>274</th>\n",
       "      <td>2014-01-20</td>\n",
       "      <td>NaN</td>\n",
       "    </tr>\n",
       "    <tr>\n",
       "      <th>294</th>\n",
       "      <td>2014-02-17</td>\n",
       "      <td>NaN</td>\n",
       "    </tr>\n",
       "    <tr>\n",
       "      <th>338</th>\n",
       "      <td>2014-04-18</td>\n",
       "      <td>NaN</td>\n",
       "    </tr>\n",
       "    <tr>\n",
       "      <th>364</th>\n",
       "      <td>2014-05-26</td>\n",
       "      <td>NaN</td>\n",
       "    </tr>\n",
       "    <tr>\n",
       "      <th>393</th>\n",
       "      <td>2014-07-04</td>\n",
       "      <td>NaN</td>\n",
       "    </tr>\n",
       "    <tr>\n",
       "      <th>434</th>\n",
       "      <td>2014-09-01</td>\n",
       "      <td>NaN</td>\n",
       "    </tr>\n",
       "    <tr>\n",
       "      <th>497</th>\n",
       "      <td>2014-11-27</td>\n",
       "      <td>NaN</td>\n",
       "    </tr>\n",
       "    <tr>\n",
       "      <th>517</th>\n",
       "      <td>2014-12-25</td>\n",
       "      <td>NaN</td>\n",
       "    </tr>\n",
       "    <tr>\n",
       "      <th>522</th>\n",
       "      <td>2015-01-01</td>\n",
       "      <td>NaN</td>\n",
       "    </tr>\n",
       "    <tr>\n",
       "      <th>534</th>\n",
       "      <td>2015-01-19</td>\n",
       "      <td>NaN</td>\n",
       "    </tr>\n",
       "    <tr>\n",
       "      <th>554</th>\n",
       "      <td>2015-02-16</td>\n",
       "      <td>NaN</td>\n",
       "    </tr>\n",
       "    <tr>\n",
       "      <th>588</th>\n",
       "      <td>2015-04-03</td>\n",
       "      <td>NaN</td>\n",
       "    </tr>\n",
       "    <tr>\n",
       "      <th>624</th>\n",
       "      <td>2015-05-25</td>\n",
       "      <td>NaN</td>\n",
       "    </tr>\n",
       "    <tr>\n",
       "      <th>653</th>\n",
       "      <td>2015-07-03</td>\n",
       "      <td>NaN</td>\n",
       "    </tr>\n",
       "    <tr>\n",
       "      <th>699</th>\n",
       "      <td>2015-09-07</td>\n",
       "      <td>NaN</td>\n",
       "    </tr>\n",
       "    <tr>\n",
       "      <th>757</th>\n",
       "      <td>2015-11-26</td>\n",
       "      <td>NaN</td>\n",
       "    </tr>\n",
       "    <tr>\n",
       "      <th>778</th>\n",
       "      <td>2015-12-25</td>\n",
       "      <td>NaN</td>\n",
       "    </tr>\n",
       "    <tr>\n",
       "      <th>783</th>\n",
       "      <td>2016-01-01</td>\n",
       "      <td>NaN</td>\n",
       "    </tr>\n",
       "    <tr>\n",
       "      <th>794</th>\n",
       "      <td>2016-01-18</td>\n",
       "      <td>NaN</td>\n",
       "    </tr>\n",
       "    <tr>\n",
       "      <th>814</th>\n",
       "      <td>2016-02-15</td>\n",
       "      <td>NaN</td>\n",
       "    </tr>\n",
       "    <tr>\n",
       "      <th>843</th>\n",
       "      <td>2016-03-25</td>\n",
       "      <td>NaN</td>\n",
       "    </tr>\n",
       "    <tr>\n",
       "      <th>889</th>\n",
       "      <td>2016-05-30</td>\n",
       "      <td>NaN</td>\n",
       "    </tr>\n",
       "    <tr>\n",
       "      <th>914</th>\n",
       "      <td>2016-07-04</td>\n",
       "      <td>NaN</td>\n",
       "    </tr>\n",
       "    <tr>\n",
       "      <th>959</th>\n",
       "      <td>2016-09-05</td>\n",
       "      <td>NaN</td>\n",
       "    </tr>\n",
       "    <tr>\n",
       "      <th>1017</th>\n",
       "      <td>2016-11-24</td>\n",
       "      <td>NaN</td>\n",
       "    </tr>\n",
       "    <tr>\n",
       "      <th>1039</th>\n",
       "      <td>2016-12-26</td>\n",
       "      <td>NaN</td>\n",
       "    </tr>\n",
       "    <tr>\n",
       "      <th>1044</th>\n",
       "      <td>2017-01-02</td>\n",
       "      <td>NaN</td>\n",
       "    </tr>\n",
       "    <tr>\n",
       "      <th>1054</th>\n",
       "      <td>2017-01-16</td>\n",
       "      <td>NaN</td>\n",
       "    </tr>\n",
       "    <tr>\n",
       "      <th>1079</th>\n",
       "      <td>2017-02-20</td>\n",
       "      <td>NaN</td>\n",
       "    </tr>\n",
       "    <tr>\n",
       "      <th>1118</th>\n",
       "      <td>2017-04-14</td>\n",
       "      <td>NaN</td>\n",
       "    </tr>\n",
       "    <tr>\n",
       "      <th>1149</th>\n",
       "      <td>2017-05-29</td>\n",
       "      <td>NaN</td>\n",
       "    </tr>\n",
       "    <tr>\n",
       "      <th>1174</th>\n",
       "      <td>2017-07-03</td>\n",
       "      <td>NaN</td>\n",
       "    </tr>\n",
       "    <tr>\n",
       "      <th>1175</th>\n",
       "      <td>2017-07-04</td>\n",
       "      <td>NaN</td>\n",
       "    </tr>\n",
       "  </tbody>\n",
       "</table>\n",
       "</div>"
      ],
      "text/plain": [
       "           date  dcoilwtico\n",
       "0    2013-01-01         NaN\n",
       "14   2013-01-21         NaN\n",
       "34   2013-02-18         NaN\n",
       "63   2013-03-29         NaN\n",
       "104  2013-05-27         NaN\n",
       "132  2013-07-04         NaN\n",
       "174  2013-09-02         NaN\n",
       "237  2013-11-28         NaN\n",
       "256  2013-12-25         NaN\n",
       "261  2014-01-01         NaN\n",
       "274  2014-01-20         NaN\n",
       "294  2014-02-17         NaN\n",
       "338  2014-04-18         NaN\n",
       "364  2014-05-26         NaN\n",
       "393  2014-07-04         NaN\n",
       "434  2014-09-01         NaN\n",
       "497  2014-11-27         NaN\n",
       "517  2014-12-25         NaN\n",
       "522  2015-01-01         NaN\n",
       "534  2015-01-19         NaN\n",
       "554  2015-02-16         NaN\n",
       "588  2015-04-03         NaN\n",
       "624  2015-05-25         NaN\n",
       "653  2015-07-03         NaN\n",
       "699  2015-09-07         NaN\n",
       "757  2015-11-26         NaN\n",
       "778  2015-12-25         NaN\n",
       "783  2016-01-01         NaN\n",
       "794  2016-01-18         NaN\n",
       "814  2016-02-15         NaN\n",
       "843  2016-03-25         NaN\n",
       "889  2016-05-30         NaN\n",
       "914  2016-07-04         NaN\n",
       "959  2016-09-05         NaN\n",
       "1017 2016-11-24         NaN\n",
       "1039 2016-12-26         NaN\n",
       "1044 2017-01-02         NaN\n",
       "1054 2017-01-16         NaN\n",
       "1079 2017-02-20         NaN\n",
       "1118 2017-04-14         NaN\n",
       "1149 2017-05-29         NaN\n",
       "1174 2017-07-03         NaN\n",
       "1175 2017-07-04         NaN"
      ]
     },
     "execution_count": 18,
     "metadata": {},
     "output_type": "execute_result"
    }
   ],
   "source": [
    "oil[oil['dcoilwtico'].isnull() == True]"
   ]
  },
  {
   "cell_type": "code",
   "execution_count": 19,
   "id": "5eb22ccb",
   "metadata": {},
   "outputs": [
    {
     "data": {
      "text/html": [
       "<div>\n",
       "<style scoped>\n",
       "    .dataframe tbody tr th:only-of-type {\n",
       "        vertical-align: middle;\n",
       "    }\n",
       "\n",
       "    .dataframe tbody tr th {\n",
       "        vertical-align: top;\n",
       "    }\n",
       "\n",
       "    .dataframe thead th {\n",
       "        text-align: right;\n",
       "    }\n",
       "</style>\n",
       "<table border=\"1\" class=\"dataframe\">\n",
       "  <thead>\n",
       "    <tr style=\"text-align: right;\">\n",
       "      <th></th>\n",
       "      <th>date</th>\n",
       "      <th>dcoilwtico</th>\n",
       "    </tr>\n",
       "  </thead>\n",
       "  <tbody>\n",
       "    <tr>\n",
       "      <th>0</th>\n",
       "      <td>2013-01-01</td>\n",
       "      <td>NaN</td>\n",
       "    </tr>\n",
       "    <tr>\n",
       "      <th>14</th>\n",
       "      <td>2013-01-21</td>\n",
       "      <td>NaN</td>\n",
       "    </tr>\n",
       "    <tr>\n",
       "      <th>34</th>\n",
       "      <td>2013-02-18</td>\n",
       "      <td>NaN</td>\n",
       "    </tr>\n",
       "    <tr>\n",
       "      <th>63</th>\n",
       "      <td>2013-03-29</td>\n",
       "      <td>NaN</td>\n",
       "    </tr>\n",
       "    <tr>\n",
       "      <th>104</th>\n",
       "      <td>2013-05-27</td>\n",
       "      <td>NaN</td>\n",
       "    </tr>\n",
       "    <tr>\n",
       "      <th>132</th>\n",
       "      <td>2013-07-04</td>\n",
       "      <td>NaN</td>\n",
       "    </tr>\n",
       "    <tr>\n",
       "      <th>174</th>\n",
       "      <td>2013-09-02</td>\n",
       "      <td>NaN</td>\n",
       "    </tr>\n",
       "    <tr>\n",
       "      <th>237</th>\n",
       "      <td>2013-11-28</td>\n",
       "      <td>NaN</td>\n",
       "    </tr>\n",
       "    <tr>\n",
       "      <th>256</th>\n",
       "      <td>2013-12-25</td>\n",
       "      <td>NaN</td>\n",
       "    </tr>\n",
       "    <tr>\n",
       "      <th>261</th>\n",
       "      <td>2014-01-01</td>\n",
       "      <td>NaN</td>\n",
       "    </tr>\n",
       "    <tr>\n",
       "      <th>274</th>\n",
       "      <td>2014-01-20</td>\n",
       "      <td>NaN</td>\n",
       "    </tr>\n",
       "    <tr>\n",
       "      <th>294</th>\n",
       "      <td>2014-02-17</td>\n",
       "      <td>NaN</td>\n",
       "    </tr>\n",
       "    <tr>\n",
       "      <th>338</th>\n",
       "      <td>2014-04-18</td>\n",
       "      <td>NaN</td>\n",
       "    </tr>\n",
       "    <tr>\n",
       "      <th>364</th>\n",
       "      <td>2014-05-26</td>\n",
       "      <td>NaN</td>\n",
       "    </tr>\n",
       "    <tr>\n",
       "      <th>393</th>\n",
       "      <td>2014-07-04</td>\n",
       "      <td>NaN</td>\n",
       "    </tr>\n",
       "    <tr>\n",
       "      <th>434</th>\n",
       "      <td>2014-09-01</td>\n",
       "      <td>NaN</td>\n",
       "    </tr>\n",
       "    <tr>\n",
       "      <th>497</th>\n",
       "      <td>2014-11-27</td>\n",
       "      <td>NaN</td>\n",
       "    </tr>\n",
       "    <tr>\n",
       "      <th>517</th>\n",
       "      <td>2014-12-25</td>\n",
       "      <td>NaN</td>\n",
       "    </tr>\n",
       "    <tr>\n",
       "      <th>522</th>\n",
       "      <td>2015-01-01</td>\n",
       "      <td>NaN</td>\n",
       "    </tr>\n",
       "    <tr>\n",
       "      <th>534</th>\n",
       "      <td>2015-01-19</td>\n",
       "      <td>NaN</td>\n",
       "    </tr>\n",
       "    <tr>\n",
       "      <th>554</th>\n",
       "      <td>2015-02-16</td>\n",
       "      <td>NaN</td>\n",
       "    </tr>\n",
       "    <tr>\n",
       "      <th>588</th>\n",
       "      <td>2015-04-03</td>\n",
       "      <td>NaN</td>\n",
       "    </tr>\n",
       "    <tr>\n",
       "      <th>624</th>\n",
       "      <td>2015-05-25</td>\n",
       "      <td>NaN</td>\n",
       "    </tr>\n",
       "    <tr>\n",
       "      <th>653</th>\n",
       "      <td>2015-07-03</td>\n",
       "      <td>NaN</td>\n",
       "    </tr>\n",
       "    <tr>\n",
       "      <th>699</th>\n",
       "      <td>2015-09-07</td>\n",
       "      <td>NaN</td>\n",
       "    </tr>\n",
       "    <tr>\n",
       "      <th>757</th>\n",
       "      <td>2015-11-26</td>\n",
       "      <td>NaN</td>\n",
       "    </tr>\n",
       "    <tr>\n",
       "      <th>778</th>\n",
       "      <td>2015-12-25</td>\n",
       "      <td>NaN</td>\n",
       "    </tr>\n",
       "    <tr>\n",
       "      <th>783</th>\n",
       "      <td>2016-01-01</td>\n",
       "      <td>NaN</td>\n",
       "    </tr>\n",
       "    <tr>\n",
       "      <th>794</th>\n",
       "      <td>2016-01-18</td>\n",
       "      <td>NaN</td>\n",
       "    </tr>\n",
       "    <tr>\n",
       "      <th>814</th>\n",
       "      <td>2016-02-15</td>\n",
       "      <td>NaN</td>\n",
       "    </tr>\n",
       "    <tr>\n",
       "      <th>843</th>\n",
       "      <td>2016-03-25</td>\n",
       "      <td>NaN</td>\n",
       "    </tr>\n",
       "    <tr>\n",
       "      <th>889</th>\n",
       "      <td>2016-05-30</td>\n",
       "      <td>NaN</td>\n",
       "    </tr>\n",
       "    <tr>\n",
       "      <th>914</th>\n",
       "      <td>2016-07-04</td>\n",
       "      <td>NaN</td>\n",
       "    </tr>\n",
       "    <tr>\n",
       "      <th>959</th>\n",
       "      <td>2016-09-05</td>\n",
       "      <td>NaN</td>\n",
       "    </tr>\n",
       "    <tr>\n",
       "      <th>1017</th>\n",
       "      <td>2016-11-24</td>\n",
       "      <td>NaN</td>\n",
       "    </tr>\n",
       "    <tr>\n",
       "      <th>1039</th>\n",
       "      <td>2016-12-26</td>\n",
       "      <td>NaN</td>\n",
       "    </tr>\n",
       "    <tr>\n",
       "      <th>1044</th>\n",
       "      <td>2017-01-02</td>\n",
       "      <td>NaN</td>\n",
       "    </tr>\n",
       "    <tr>\n",
       "      <th>1054</th>\n",
       "      <td>2017-01-16</td>\n",
       "      <td>NaN</td>\n",
       "    </tr>\n",
       "    <tr>\n",
       "      <th>1079</th>\n",
       "      <td>2017-02-20</td>\n",
       "      <td>NaN</td>\n",
       "    </tr>\n",
       "    <tr>\n",
       "      <th>1118</th>\n",
       "      <td>2017-04-14</td>\n",
       "      <td>NaN</td>\n",
       "    </tr>\n",
       "    <tr>\n",
       "      <th>1149</th>\n",
       "      <td>2017-05-29</td>\n",
       "      <td>NaN</td>\n",
       "    </tr>\n",
       "    <tr>\n",
       "      <th>1174</th>\n",
       "      <td>2017-07-03</td>\n",
       "      <td>NaN</td>\n",
       "    </tr>\n",
       "    <tr>\n",
       "      <th>1175</th>\n",
       "      <td>2017-07-04</td>\n",
       "      <td>NaN</td>\n",
       "    </tr>\n",
       "  </tbody>\n",
       "</table>\n",
       "</div>"
      ],
      "text/plain": [
       "           date  dcoilwtico\n",
       "0    2013-01-01         NaN\n",
       "14   2013-01-21         NaN\n",
       "34   2013-02-18         NaN\n",
       "63   2013-03-29         NaN\n",
       "104  2013-05-27         NaN\n",
       "132  2013-07-04         NaN\n",
       "174  2013-09-02         NaN\n",
       "237  2013-11-28         NaN\n",
       "256  2013-12-25         NaN\n",
       "261  2014-01-01         NaN\n",
       "274  2014-01-20         NaN\n",
       "294  2014-02-17         NaN\n",
       "338  2014-04-18         NaN\n",
       "364  2014-05-26         NaN\n",
       "393  2014-07-04         NaN\n",
       "434  2014-09-01         NaN\n",
       "497  2014-11-27         NaN\n",
       "517  2014-12-25         NaN\n",
       "522  2015-01-01         NaN\n",
       "534  2015-01-19         NaN\n",
       "554  2015-02-16         NaN\n",
       "588  2015-04-03         NaN\n",
       "624  2015-05-25         NaN\n",
       "653  2015-07-03         NaN\n",
       "699  2015-09-07         NaN\n",
       "757  2015-11-26         NaN\n",
       "778  2015-12-25         NaN\n",
       "783  2016-01-01         NaN\n",
       "794  2016-01-18         NaN\n",
       "814  2016-02-15         NaN\n",
       "843  2016-03-25         NaN\n",
       "889  2016-05-30         NaN\n",
       "914  2016-07-04         NaN\n",
       "959  2016-09-05         NaN\n",
       "1017 2016-11-24         NaN\n",
       "1039 2016-12-26         NaN\n",
       "1044 2017-01-02         NaN\n",
       "1054 2017-01-16         NaN\n",
       "1079 2017-02-20         NaN\n",
       "1118 2017-04-14         NaN\n",
       "1149 2017-05-29         NaN\n",
       "1174 2017-07-03         NaN\n",
       "1175 2017-07-04         NaN"
      ]
     },
     "execution_count": 19,
     "metadata": {},
     "output_type": "execute_result"
    }
   ],
   "source": [
    "## do we have other duplicate rows in these rows?\n",
    "## ans: no.. these days are holidays. keep them as null\n",
    "\n",
    "null_dates = oil[oil['dcoilwtico'].isnull() == True]['date']\n",
    "oil[oil['date'].isin(null_dates)]"
   ]
  },
  {
   "cell_type": "code",
   "execution_count": 20,
   "id": "6595cf21",
   "metadata": {},
   "outputs": [
    {
     "name": "stdout",
     "output_type": "stream",
     "text": [
      "DatetimeIndex(['2013-01-05', '2013-01-06', '2013-01-12', '2013-01-13',\n",
      "               '2013-01-19', '2013-01-20', '2013-01-26', '2013-01-27',\n",
      "               '2013-02-02', '2013-02-03',\n",
      "               ...\n",
      "               '2017-07-29', '2017-07-30', '2017-08-05', '2017-08-06',\n",
      "               '2017-08-12', '2017-08-13', '2017-08-19', '2017-08-20',\n",
      "               '2017-08-26', '2017-08-27'],\n",
      "              dtype='datetime64[ns]', length=486, freq=None)\n"
     ]
    }
   ],
   "source": [
    "# do we have missing dates in the days?\n",
    "dates_in_oil = oil['date'].unique()\n",
    "missing_dates = pd.date_range(start=oil['date'].min(), end=oil['date'].max()).difference(dates_in_oil)\n",
    "print(missing_dates)"
   ]
  },
  {
   "cell_type": "code",
   "execution_count": 21,
   "id": "ffb0851f",
   "metadata": {},
   "outputs": [
    {
     "data": {
      "text/plain": [
       "Int64Index([5, 6], dtype='int64')"
      ]
     },
     "execution_count": 21,
     "metadata": {},
     "output_type": "execute_result"
    }
   ],
   "source": [
    "# looks like these are Saturdays and Sundays.\n",
    "# Do we have any days missing that aren't Saturday and Sundays?\n",
    "\n",
    "missing_dates.dayofweek.unique()\n",
    "# dayofweek starts at 0, so 5,6 are Saturday and Sundays.\n",
    "# There aren't any missing dates that aren't Saturdays or Sundays."
   ]
  },
  {
   "cell_type": "markdown",
   "id": "241a594b",
   "metadata": {},
   "source": [
    "#### summary data"
   ]
  },
  {
   "cell_type": "code",
   "execution_count": 22,
   "id": "44f59509",
   "metadata": {},
   "outputs": [
    {
     "data": {
      "text/html": [
       "<div>\n",
       "<style scoped>\n",
       "    .dataframe tbody tr th:only-of-type {\n",
       "        vertical-align: middle;\n",
       "    }\n",
       "\n",
       "    .dataframe tbody tr th {\n",
       "        vertical-align: top;\n",
       "    }\n",
       "\n",
       "    .dataframe thead th {\n",
       "        text-align: right;\n",
       "    }\n",
       "</style>\n",
       "<table border=\"1\" class=\"dataframe\">\n",
       "  <thead>\n",
       "    <tr style=\"text-align: right;\">\n",
       "      <th></th>\n",
       "      <th>dcoilwtico</th>\n",
       "    </tr>\n",
       "  </thead>\n",
       "  <tbody>\n",
       "    <tr>\n",
       "      <th>count</th>\n",
       "      <td>1175.000000</td>\n",
       "    </tr>\n",
       "    <tr>\n",
       "      <th>mean</th>\n",
       "      <td>67.714366</td>\n",
       "    </tr>\n",
       "    <tr>\n",
       "      <th>std</th>\n",
       "      <td>25.630476</td>\n",
       "    </tr>\n",
       "    <tr>\n",
       "      <th>min</th>\n",
       "      <td>26.190000</td>\n",
       "    </tr>\n",
       "    <tr>\n",
       "      <th>25%</th>\n",
       "      <td>46.405000</td>\n",
       "    </tr>\n",
       "    <tr>\n",
       "      <th>50%</th>\n",
       "      <td>53.190000</td>\n",
       "    </tr>\n",
       "    <tr>\n",
       "      <th>75%</th>\n",
       "      <td>95.660000</td>\n",
       "    </tr>\n",
       "    <tr>\n",
       "      <th>max</th>\n",
       "      <td>110.620000</td>\n",
       "    </tr>\n",
       "  </tbody>\n",
       "</table>\n",
       "</div>"
      ],
      "text/plain": [
       "        dcoilwtico\n",
       "count  1175.000000\n",
       "mean     67.714366\n",
       "std      25.630476\n",
       "min      26.190000\n",
       "25%      46.405000\n",
       "50%      53.190000\n",
       "75%      95.660000\n",
       "max     110.620000"
      ]
     },
     "execution_count": 22,
     "metadata": {},
     "output_type": "execute_result"
    }
   ],
   "source": [
    "oil.describe()"
   ]
  },
  {
   "cell_type": "code",
   "execution_count": 23,
   "id": "e033c08f",
   "metadata": {},
   "outputs": [
    {
     "data": {
      "text/plain": [
       "count                   1218\n",
       "mean     2015-05-02 12:00:00\n",
       "min      2013-01-01 00:00:00\n",
       "25%      2014-03-03 06:00:00\n",
       "50%      2015-05-02 12:00:00\n",
       "75%      2016-06-30 18:00:00\n",
       "max      2017-08-31 00:00:00\n",
       "Name: date, dtype: object"
      ]
     },
     "execution_count": 23,
     "metadata": {},
     "output_type": "execute_result"
    }
   ],
   "source": [
    "oil['date'].describe(datetime_is_numeric=True)"
   ]
  },
  {
   "cell_type": "code",
   "execution_count": 24,
   "id": "8e8fa180",
   "metadata": {},
   "outputs": [
    {
     "data": {
      "image/png": "[encoded data removed]",
      "text/plain": [
       "<Figure size 432x288 with 1 Axes>"
      ]
     },
     "metadata": {
      "needs_background": "light"
     },
     "output_type": "display_data"
    }
   ],
   "source": [
    "plt.plot(oil['date'], oil['dcoilwtico'])\n",
    "plt.title(col)\n",
    "plt.show()"
   ]
  },
  {
   "cell_type": "markdown",
   "id": "9c46bae5",
   "metadata": {},
   "source": [
    "### sample_submission\n",
    "\n",
    "#### This dataframe contains 28512 rows, and 2 columns.\n",
    "\n",
    "Official description:<br>\n",
    "- A sample submission file in the correct format."
   ]
  },
  {
   "cell_type": "code",
   "execution_count": 25,
   "id": "17256479",
   "metadata": {},
   "outputs": [
    {
     "data": {
      "text/plain": [
       "Index(['id', 'sales'], dtype='object')"
      ]
     },
     "execution_count": 25,
     "metadata": {},
     "output_type": "execute_result"
    }
   ],
   "source": [
    "# check column names\n",
    "sample_submission.columns"
   ]
  },
  {
   "cell_type": "code",
   "execution_count": 26,
   "id": "beb10e0c",
   "metadata": {},
   "outputs": [
    {
     "data": {
      "text/plain": [
       "id         int64\n",
       "sales    float64\n",
       "dtype: object"
      ]
     },
     "execution_count": 26,
     "metadata": {},
     "output_type": "execute_result"
    }
   ],
   "source": [
    "# check data type\n",
    "sample_submission.dtypes"
   ]
  },
  {
   "cell_type": "code",
   "execution_count": 27,
   "id": "e8a5614c",
   "metadata": {},
   "outputs": [
    {
     "data": {
      "text/html": [
       "<div>\n",
       "<style scoped>\n",
       "    .dataframe tbody tr th:only-of-type {\n",
       "        vertical-align: middle;\n",
       "    }\n",
       "\n",
       "    .dataframe tbody tr th {\n",
       "        vertical-align: top;\n",
       "    }\n",
       "\n",
       "    .dataframe thead th {\n",
       "        text-align: right;\n",
       "    }\n",
       "</style>\n",
       "<table border=\"1\" class=\"dataframe\">\n",
       "  <thead>\n",
       "    <tr style=\"text-align: right;\">\n",
       "      <th></th>\n",
       "      <th>id</th>\n",
       "      <th>sales</th>\n",
       "    </tr>\n",
       "  </thead>\n",
       "  <tbody>\n",
       "    <tr>\n",
       "      <th>0</th>\n",
       "      <td>3000888</td>\n",
       "      <td>0.0</td>\n",
       "    </tr>\n",
       "    <tr>\n",
       "      <th>1</th>\n",
       "      <td>3000889</td>\n",
       "      <td>0.0</td>\n",
       "    </tr>\n",
       "    <tr>\n",
       "      <th>2</th>\n",
       "      <td>3000890</td>\n",
       "      <td>0.0</td>\n",
       "    </tr>\n",
       "    <tr>\n",
       "      <th>3</th>\n",
       "      <td>3000891</td>\n",
       "      <td>0.0</td>\n",
       "    </tr>\n",
       "    <tr>\n",
       "      <th>4</th>\n",
       "      <td>3000892</td>\n",
       "      <td>0.0</td>\n",
       "    </tr>\n",
       "  </tbody>\n",
       "</table>\n",
       "</div>"
      ],
      "text/plain": [
       "        id  sales\n",
       "0  3000888    0.0\n",
       "1  3000889    0.0\n",
       "2  3000890    0.0\n",
       "3  3000891    0.0\n",
       "4  3000892    0.0"
      ]
     },
     "execution_count": 27,
     "metadata": {},
     "output_type": "execute_result"
    }
   ],
   "source": [
    "# not sure what the sample_submission's id column mean...\n",
    "# maybe some type of date format? or maybe it's store ID?\n",
    "sample_submission.head()"
   ]
  },
  {
   "cell_type": "markdown",
   "id": "3a70004f",
   "metadata": {},
   "source": [
    "### stores\n",
    "\n",
    "#### This dataframe contains 54 rows, and 5 columns\n",
    "\n",
    "Official description:\n",
    "- Store metadata, including city, state, type, and cluster.\n",
    "- cluster is a grouping of similar stores."
   ]
  },
  {
   "cell_type": "code",
   "execution_count": 28,
   "id": "48e78e96",
   "metadata": {},
   "outputs": [
    {
     "data": {
      "text/plain": [
       "Index(['store_nbr', 'city', 'state', 'type', 'cluster'], dtype='object')"
      ]
     },
     "execution_count": 28,
     "metadata": {},
     "output_type": "execute_result"
    }
   ],
   "source": [
    "stores.columns"
   ]
  },
  {
   "cell_type": "code",
   "execution_count": 29,
   "id": "e065426e",
   "metadata": {},
   "outputs": [
    {
     "data": {
      "text/html": [
       "<div>\n",
       "<style scoped>\n",
       "    .dataframe tbody tr th:only-of-type {\n",
       "        vertical-align: middle;\n",
       "    }\n",
       "\n",
       "    .dataframe tbody tr th {\n",
       "        vertical-align: top;\n",
       "    }\n",
       "\n",
       "    .dataframe thead th {\n",
       "        text-align: right;\n",
       "    }\n",
       "</style>\n",
       "<table border=\"1\" class=\"dataframe\">\n",
       "  <thead>\n",
       "    <tr style=\"text-align: right;\">\n",
       "      <th></th>\n",
       "      <th>store_nbr</th>\n",
       "      <th>city</th>\n",
       "      <th>state</th>\n",
       "      <th>type</th>\n",
       "      <th>cluster</th>\n",
       "    </tr>\n",
       "  </thead>\n",
       "  <tbody>\n",
       "    <tr>\n",
       "      <th>0</th>\n",
       "      <td>1</td>\n",
       "      <td>Quito</td>\n",
       "      <td>Pichincha</td>\n",
       "      <td>D</td>\n",
       "      <td>13</td>\n",
       "    </tr>\n",
       "    <tr>\n",
       "      <th>1</th>\n",
       "      <td>2</td>\n",
       "      <td>Quito</td>\n",
       "      <td>Pichincha</td>\n",
       "      <td>D</td>\n",
       "      <td>13</td>\n",
       "    </tr>\n",
       "    <tr>\n",
       "      <th>2</th>\n",
       "      <td>3</td>\n",
       "      <td>Quito</td>\n",
       "      <td>Pichincha</td>\n",
       "      <td>D</td>\n",
       "      <td>8</td>\n",
       "    </tr>\n",
       "    <tr>\n",
       "      <th>3</th>\n",
       "      <td>4</td>\n",
       "      <td>Quito</td>\n",
       "      <td>Pichincha</td>\n",
       "      <td>D</td>\n",
       "      <td>9</td>\n",
       "    </tr>\n",
       "    <tr>\n",
       "      <th>4</th>\n",
       "      <td>5</td>\n",
       "      <td>Santo Domingo</td>\n",
       "      <td>Santo Domingo de los Tsachilas</td>\n",
       "      <td>D</td>\n",
       "      <td>4</td>\n",
       "    </tr>\n",
       "  </tbody>\n",
       "</table>\n",
       "</div>"
      ],
      "text/plain": [
       "   store_nbr           city                           state type  cluster\n",
       "0          1          Quito                       Pichincha    D       13\n",
       "1          2          Quito                       Pichincha    D       13\n",
       "2          3          Quito                       Pichincha    D        8\n",
       "3          4          Quito                       Pichincha    D        9\n",
       "4          5  Santo Domingo  Santo Domingo de los Tsachilas    D        4"
      ]
     },
     "execution_count": 29,
     "metadata": {},
     "output_type": "execute_result"
    }
   ],
   "source": [
    "stores.head()"
   ]
  },
  {
   "cell_type": "code",
   "execution_count": 30,
   "id": "d3436fed",
   "metadata": {},
   "outputs": [
    {
     "data": {
      "text/plain": [
       "store_nbr     int64\n",
       "city         object\n",
       "state        object\n",
       "type         object\n",
       "cluster       int64\n",
       "dtype: object"
      ]
     },
     "execution_count": 30,
     "metadata": {},
     "output_type": "execute_result"
    }
   ],
   "source": [
    "# check data type\n",
    "stores.dtypes"
   ]
  },
  {
   "cell_type": "code",
   "execution_count": 31,
   "id": "96417504",
   "metadata": {},
   "outputs": [
    {
     "data": {
      "text/plain": [
       "store_nbr    0\n",
       "city         0\n",
       "state        0\n",
       "type         0\n",
       "cluster      0\n",
       "dtype: int64"
      ]
     },
     "execution_count": 31,
     "metadata": {},
     "output_type": "execute_result"
    }
   ],
   "source": [
    "# check null values\n",
    "stores.isnull().sum() # no null values"
   ]
  },
  {
   "cell_type": "markdown",
   "id": "834d963f",
   "metadata": {},
   "source": [
    "#### summary data"
   ]
  },
  {
   "cell_type": "code",
   "execution_count": 32,
   "id": "7f3d0c85",
   "metadata": {},
   "outputs": [
    {
     "data": {
      "text/html": [
       "<div>\n",
       "<style scoped>\n",
       "    .dataframe tbody tr th:only-of-type {\n",
       "        vertical-align: middle;\n",
       "    }\n",
       "\n",
       "    .dataframe tbody tr th {\n",
       "        vertical-align: top;\n",
       "    }\n",
       "\n",
       "    .dataframe thead th {\n",
       "        text-align: right;\n",
       "    }\n",
       "</style>\n",
       "<table border=\"1\" class=\"dataframe\">\n",
       "  <thead>\n",
       "    <tr style=\"text-align: right;\">\n",
       "      <th></th>\n",
       "      <th>store_nbr</th>\n",
       "      <th>cluster</th>\n",
       "    </tr>\n",
       "  </thead>\n",
       "  <tbody>\n",
       "    <tr>\n",
       "      <th>count</th>\n",
       "      <td>54.000000</td>\n",
       "      <td>54.000000</td>\n",
       "    </tr>\n",
       "    <tr>\n",
       "      <th>mean</th>\n",
       "      <td>27.500000</td>\n",
       "      <td>8.481481</td>\n",
       "    </tr>\n",
       "    <tr>\n",
       "      <th>std</th>\n",
       "      <td>15.732133</td>\n",
       "      <td>4.693395</td>\n",
       "    </tr>\n",
       "    <tr>\n",
       "      <th>min</th>\n",
       "      <td>1.000000</td>\n",
       "      <td>1.000000</td>\n",
       "    </tr>\n",
       "    <tr>\n",
       "      <th>25%</th>\n",
       "      <td>14.250000</td>\n",
       "      <td>4.000000</td>\n",
       "    </tr>\n",
       "    <tr>\n",
       "      <th>50%</th>\n",
       "      <td>27.500000</td>\n",
       "      <td>8.500000</td>\n",
       "    </tr>\n",
       "    <tr>\n",
       "      <th>75%</th>\n",
       "      <td>40.750000</td>\n",
       "      <td>13.000000</td>\n",
       "    </tr>\n",
       "    <tr>\n",
       "      <th>max</th>\n",
       "      <td>54.000000</td>\n",
       "      <td>17.000000</td>\n",
       "    </tr>\n",
       "  </tbody>\n",
       "</table>\n",
       "</div>"
      ],
      "text/plain": [
       "       store_nbr    cluster\n",
       "count  54.000000  54.000000\n",
       "mean   27.500000   8.481481\n",
       "std    15.732133   4.693395\n",
       "min     1.000000   1.000000\n",
       "25%    14.250000   4.000000\n",
       "50%    27.500000   8.500000\n",
       "75%    40.750000  13.000000\n",
       "max    54.000000  17.000000"
      ]
     },
     "execution_count": 32,
     "metadata": {},
     "output_type": "execute_result"
    }
   ],
   "source": [
    "stores.describe()"
   ]
  },
  {
   "cell_type": "code",
   "execution_count": 33,
   "id": "7269f2a9",
   "metadata": {},
   "outputs": [
    {
     "data": {
      "image/png": "[encoded data removed]",
      "text/plain": [
       "<Figure size 432x288 with 1 Axes>"
      ]
     },
     "metadata": {
      "needs_background": "light"
     },
     "output_type": "display_data"
    }
   ],
   "source": [
    "stores['cluster'].value_counts().sort_index().plot(kind='barh')\n",
    "plt.title('cluster')\n",
    "plt.show()"
   ]
  },
  {
   "cell_type": "code",
   "execution_count": 34,
   "id": "fb9c6880",
   "metadata": {},
   "outputs": [
    {
     "data": {
      "image/png": "[encoded data removed]",
      "text/plain": [
       "<Figure size 432x288 with 1 Axes>"
      ]
     },
     "metadata": {
      "needs_background": "light"
     },
     "output_type": "display_data"
    },
    {
     "data": {
      "image/png": "[encoded data removed]",
      "text/plain": [
       "<Figure size 432x288 with 1 Axes>"
      ]
     },
     "metadata": {
      "needs_background": "light"
     },
     "output_type": "display_data"
    },
    {
     "data": {
      "image/png": "[encoded data removed]",
      "text/plain": [
       "<Figure size 432x288 with 1 Axes>"
      ]
     },
     "metadata": {
      "needs_background": "light"
     },
     "output_type": "display_data"
    }
   ],
   "source": [
    "for col in ['city', 'state', 'type']:\n",
    "    stores[col].value_counts().plot(kind='barh')\n",
    "    plt.title(col)\n",
    "    plt.show()"
   ]
  },
  {
   "cell_type": "markdown",
   "id": "0326dc5a",
   "metadata": {},
   "source": [
    "#### store_nbr is the unique identifier of each store."
   ]
  },
  {
   "cell_type": "code",
   "execution_count": 35,
   "id": "86381384",
   "metadata": {},
   "outputs": [
    {
     "name": "stdout",
     "output_type": "stream",
     "text": [
      "There are 54 number of rows in stores.csv file, and there are 54 number of store_nbr.\n"
     ]
    }
   ],
   "source": [
    "print('There are {} number of rows in stores.csv file, and there are {} number of store_nbr.'.format(stores.shape[0], stores['store_nbr'].nunique()))"
   ]
  },
  {
   "cell_type": "markdown",
   "id": "babe4da2",
   "metadata": {},
   "source": [
    "### test\n",
    "\n",
    "#### This dataframe contains 28512 rows, and 5 columns\n",
    "\n",
    "Official description:\n",
    "- The test data, having the same features as the training data. You will predict the target sales for the dates in this file.\n",
    "- The dates in the test data are for the 15 days after the last date in the training data."
   ]
  },
  {
   "cell_type": "code",
   "execution_count": 36,
   "id": "80d5f0c5",
   "metadata": {},
   "outputs": [
    {
     "data": {
      "text/plain": [
       "Index(['id', 'date', 'store_nbr', 'family', 'onpromotion'], dtype='object')"
      ]
     },
     "execution_count": 36,
     "metadata": {},
     "output_type": "execute_result"
    }
   ],
   "source": [
    "test.columns\n",
    "# test dataset doesn't have a 'sales' column like in train dataset."
   ]
  },
  {
   "cell_type": "code",
   "execution_count": 37,
   "id": "f77e50c4",
   "metadata": {},
   "outputs": [
    {
     "data": {
      "text/html": [
       "<div>\n",
       "<style scoped>\n",
       "    .dataframe tbody tr th:only-of-type {\n",
       "        vertical-align: middle;\n",
       "    }\n",
       "\n",
       "    .dataframe tbody tr th {\n",
       "        vertical-align: top;\n",
       "    }\n",
       "\n",
       "    .dataframe thead th {\n",
       "        text-align: right;\n",
       "    }\n",
       "</style>\n",
       "<table border=\"1\" class=\"dataframe\">\n",
       "  <thead>\n",
       "    <tr style=\"text-align: right;\">\n",
       "      <th></th>\n",
       "      <th>id</th>\n",
       "      <th>date</th>\n",
       "      <th>store_nbr</th>\n",
       "      <th>family</th>\n",
       "      <th>onpromotion</th>\n",
       "    </tr>\n",
       "  </thead>\n",
       "  <tbody>\n",
       "    <tr>\n",
       "      <th>0</th>\n",
       "      <td>3000888</td>\n",
       "      <td>2017-08-16</td>\n",
       "      <td>1</td>\n",
       "      <td>AUTOMOTIVE</td>\n",
       "      <td>0</td>\n",
       "    </tr>\n",
       "    <tr>\n",
       "      <th>1</th>\n",
       "      <td>3000889</td>\n",
       "      <td>2017-08-16</td>\n",
       "      <td>1</td>\n",
       "      <td>BABY CARE</td>\n",
       "      <td>0</td>\n",
       "    </tr>\n",
       "    <tr>\n",
       "      <th>2</th>\n",
       "      <td>3000890</td>\n",
       "      <td>2017-08-16</td>\n",
       "      <td>1</td>\n",
       "      <td>BEAUTY</td>\n",
       "      <td>2</td>\n",
       "    </tr>\n",
       "    <tr>\n",
       "      <th>3</th>\n",
       "      <td>3000891</td>\n",
       "      <td>2017-08-16</td>\n",
       "      <td>1</td>\n",
       "      <td>BEVERAGES</td>\n",
       "      <td>20</td>\n",
       "    </tr>\n",
       "    <tr>\n",
       "      <th>4</th>\n",
       "      <td>3000892</td>\n",
       "      <td>2017-08-16</td>\n",
       "      <td>1</td>\n",
       "      <td>BOOKS</td>\n",
       "      <td>0</td>\n",
       "    </tr>\n",
       "  </tbody>\n",
       "</table>\n",
       "</div>"
      ],
      "text/plain": [
       "        id        date  store_nbr      family  onpromotion\n",
       "0  3000888  2017-08-16          1  AUTOMOTIVE            0\n",
       "1  3000889  2017-08-16          1   BABY CARE            0\n",
       "2  3000890  2017-08-16          1      BEAUTY            2\n",
       "3  3000891  2017-08-16          1   BEVERAGES           20\n",
       "4  3000892  2017-08-16          1       BOOKS            0"
      ]
     },
     "execution_count": 37,
     "metadata": {},
     "output_type": "execute_result"
    }
   ],
   "source": [
    "test.head()\n",
    "\n",
    "# looks like test dataset is where we make prediction and fill out the \"sales column\"\n",
    "# then have the id and sales columns exported like sample_submission file"
   ]
  },
  {
   "cell_type": "markdown",
   "id": "51f957d0",
   "metadata": {},
   "source": [
    "#### data types"
   ]
  },
  {
   "cell_type": "code",
   "execution_count": 38,
   "id": "a63d6ebc",
   "metadata": {},
   "outputs": [
    {
     "data": {
      "text/plain": [
       "id              int64\n",
       "date           object\n",
       "store_nbr       int64\n",
       "family         object\n",
       "onpromotion     int64\n",
       "dtype: object"
      ]
     },
     "execution_count": 38,
     "metadata": {},
     "output_type": "execute_result"
    }
   ],
   "source": [
    "# data types\n",
    "test.dtypes"
   ]
  },
  {
   "cell_type": "code",
   "execution_count": 39,
   "id": "d2ac197b",
   "metadata": {},
   "outputs": [],
   "source": [
    "test['date'] = pd.to_datetime(test['date'])"
   ]
  },
  {
   "cell_type": "code",
   "execution_count": 40,
   "id": "9fe5bd2a",
   "metadata": {},
   "outputs": [
    {
     "data": {
      "text/plain": [
       "id                      int64\n",
       "date           datetime64[ns]\n",
       "store_nbr               int64\n",
       "family                 object\n",
       "onpromotion             int64\n",
       "dtype: object"
      ]
     },
     "execution_count": 40,
     "metadata": {},
     "output_type": "execute_result"
    }
   ],
   "source": [
    "# check new datatypes\n",
    "test.dtypes"
   ]
  },
  {
   "cell_type": "markdown",
   "id": "57610a7e",
   "metadata": {},
   "source": [
    "#### null values"
   ]
  },
  {
   "cell_type": "code",
   "execution_count": 41,
   "id": "a9180ecc",
   "metadata": {},
   "outputs": [
    {
     "data": {
      "text/plain": [
       "id             0\n",
       "date           0\n",
       "store_nbr      0\n",
       "family         0\n",
       "onpromotion    0\n",
       "dtype: int64"
      ]
     },
     "execution_count": 41,
     "metadata": {},
     "output_type": "execute_result"
    }
   ],
   "source": [
    "# null values\n",
    "test.isnull().sum()"
   ]
  },
  {
   "cell_type": "code",
   "execution_count": 42,
   "id": "70229d57",
   "metadata": {},
   "outputs": [
    {
     "name": "stdout",
     "output_type": "stream",
     "text": [
      "DatetimeIndex([], dtype='datetime64[ns]', freq='D')\n"
     ]
    }
   ],
   "source": [
    "# check if there's missing dates\n",
    "dates_in_test = test['date'].unique()\n",
    "print(pd.date_range(start=test.select_dtypes(include='datetime').min()[0], end=test.select_dtypes(include='datetime').max()[0]).difference(dates_in_test))"
   ]
  },
  {
   "cell_type": "markdown",
   "id": "feac3955",
   "metadata": {},
   "source": [
    "#### summary data"
   ]
  },
  {
   "cell_type": "code",
   "execution_count": 43,
   "id": "de6ee8cb",
   "metadata": {},
   "outputs": [
    {
     "data": {
      "text/html": [
       "<div>\n",
       "<style scoped>\n",
       "    .dataframe tbody tr th:only-of-type {\n",
       "        vertical-align: middle;\n",
       "    }\n",
       "\n",
       "    .dataframe tbody tr th {\n",
       "        vertical-align: top;\n",
       "    }\n",
       "\n",
       "    .dataframe thead th {\n",
       "        text-align: right;\n",
       "    }\n",
       "</style>\n",
       "<table border=\"1\" class=\"dataframe\">\n",
       "  <thead>\n",
       "    <tr style=\"text-align: right;\">\n",
       "      <th></th>\n",
       "      <th>id</th>\n",
       "      <th>store_nbr</th>\n",
       "      <th>onpromotion</th>\n",
       "    </tr>\n",
       "  </thead>\n",
       "  <tbody>\n",
       "    <tr>\n",
       "      <th>count</th>\n",
       "      <td>2.851200e+04</td>\n",
       "      <td>28512.000000</td>\n",
       "      <td>28512.000000</td>\n",
       "    </tr>\n",
       "    <tr>\n",
       "      <th>mean</th>\n",
       "      <td>3.015144e+06</td>\n",
       "      <td>27.500000</td>\n",
       "      <td>6.965383</td>\n",
       "    </tr>\n",
       "    <tr>\n",
       "      <th>std</th>\n",
       "      <td>8.230850e+03</td>\n",
       "      <td>15.586057</td>\n",
       "      <td>20.683952</td>\n",
       "    </tr>\n",
       "    <tr>\n",
       "      <th>min</th>\n",
       "      <td>3.000888e+06</td>\n",
       "      <td>1.000000</td>\n",
       "      <td>0.000000</td>\n",
       "    </tr>\n",
       "    <tr>\n",
       "      <th>25%</th>\n",
       "      <td>3.008016e+06</td>\n",
       "      <td>14.000000</td>\n",
       "      <td>0.000000</td>\n",
       "    </tr>\n",
       "    <tr>\n",
       "      <th>50%</th>\n",
       "      <td>3.015144e+06</td>\n",
       "      <td>27.500000</td>\n",
       "      <td>0.000000</td>\n",
       "    </tr>\n",
       "    <tr>\n",
       "      <th>75%</th>\n",
       "      <td>3.022271e+06</td>\n",
       "      <td>41.000000</td>\n",
       "      <td>6.000000</td>\n",
       "    </tr>\n",
       "    <tr>\n",
       "      <th>max</th>\n",
       "      <td>3.029399e+06</td>\n",
       "      <td>54.000000</td>\n",
       "      <td>646.000000</td>\n",
       "    </tr>\n",
       "  </tbody>\n",
       "</table>\n",
       "</div>"
      ],
      "text/plain": [
       "                 id     store_nbr   onpromotion\n",
       "count  2.851200e+04  28512.000000  28512.000000\n",
       "mean   3.015144e+06     27.500000      6.965383\n",
       "std    8.230850e+03     15.586057     20.683952\n",
       "min    3.000888e+06      1.000000      0.000000\n",
       "25%    3.008016e+06     14.000000      0.000000\n",
       "50%    3.015144e+06     27.500000      0.000000\n",
       "75%    3.022271e+06     41.000000      6.000000\n",
       "max    3.029399e+06     54.000000    646.000000"
      ]
     },
     "execution_count": 43,
     "metadata": {},
     "output_type": "execute_result"
    }
   ],
   "source": [
    "test.select_dtypes(include=np.number).describe()\n",
    "# not too sure what the onpromotion means, maybe it's items on promotion?"
   ]
  },
  {
   "cell_type": "code",
   "execution_count": 44,
   "id": "31e0fe94",
   "metadata": {},
   "outputs": [
    {
     "name": "stdout",
     "output_type": "stream",
     "text": [
      "There are 16 distinct datetime in the test dataset, with 2017-08-16 00:00:00 as smallest data, 2017-08-31 00:00:00 as largest date.\n"
     ]
    }
   ],
   "source": [
    "print('There are {} distinct datetime in the test dataset, with {} as smallest data, {} as largest date.'.format(test.select_dtypes(include='datetime').nunique()[0], test.select_dtypes(include='datetime').min()[0], test.select_dtypes(include='datetime').max()[0]))"
   ]
  },
  {
   "cell_type": "markdown",
   "id": "c60a1ab1",
   "metadata": {},
   "source": [
    "### train\n",
    "\n",
    "#### This dataframe contains 3000888 rows, and 6 columns\n",
    "\n",
    "Official description:\n",
    "- The training data, comprising time series of features store_nbr, family, and onpromotion as well as the target sales.\n",
    "- store_nbr identifies the store at which the products are sold.\n",
    "- family identifies the type of product sold.\n",
    "- sales gives the total sales for a product family at a particular store at a given date. Fractional values are possible since products can be sold in fractional units (1.5 kg of cheese, for instance, as opposed to 1 bag of chips).\n",
    "- onpromotion gives the total number of items in a product family that were being promoted at a store at a given date."
   ]
  },
  {
   "cell_type": "code",
   "execution_count": 45,
   "id": "8cf091de",
   "metadata": {},
   "outputs": [
    {
     "data": {
      "text/plain": [
       "Index(['id', 'date', 'store_nbr', 'family', 'sales', 'onpromotion'], dtype='object')"
      ]
     },
     "execution_count": 45,
     "metadata": {},
     "output_type": "execute_result"
    }
   ],
   "source": [
    "train.columns"
   ]
  },
  {
   "cell_type": "code",
   "execution_count": 46,
   "id": "8d28861b",
   "metadata": {},
   "outputs": [
    {
     "data": {
      "text/html": [
       "<div>\n",
       "<style scoped>\n",
       "    .dataframe tbody tr th:only-of-type {\n",
       "        vertical-align: middle;\n",
       "    }\n",
       "\n",
       "    .dataframe tbody tr th {\n",
       "        vertical-align: top;\n",
       "    }\n",
       "\n",
       "    .dataframe thead th {\n",
       "        text-align: right;\n",
       "    }\n",
       "</style>\n",
       "<table border=\"1\" class=\"dataframe\">\n",
       "  <thead>\n",
       "    <tr style=\"text-align: right;\">\n",
       "      <th></th>\n",
       "      <th>id</th>\n",
       "      <th>date</th>\n",
       "      <th>store_nbr</th>\n",
       "      <th>family</th>\n",
       "      <th>sales</th>\n",
       "      <th>onpromotion</th>\n",
       "    </tr>\n",
       "  </thead>\n",
       "  <tbody>\n",
       "    <tr>\n",
       "      <th>0</th>\n",
       "      <td>0</td>\n",
       "      <td>2013-01-01</td>\n",
       "      <td>1</td>\n",
       "      <td>AUTOMOTIVE</td>\n",
       "      <td>0.0</td>\n",
       "      <td>0</td>\n",
       "    </tr>\n",
       "    <tr>\n",
       "      <th>1</th>\n",
       "      <td>1</td>\n",
       "      <td>2013-01-01</td>\n",
       "      <td>1</td>\n",
       "      <td>BABY CARE</td>\n",
       "      <td>0.0</td>\n",
       "      <td>0</td>\n",
       "    </tr>\n",
       "    <tr>\n",
       "      <th>2</th>\n",
       "      <td>2</td>\n",
       "      <td>2013-01-01</td>\n",
       "      <td>1</td>\n",
       "      <td>BEAUTY</td>\n",
       "      <td>0.0</td>\n",
       "      <td>0</td>\n",
       "    </tr>\n",
       "    <tr>\n",
       "      <th>3</th>\n",
       "      <td>3</td>\n",
       "      <td>2013-01-01</td>\n",
       "      <td>1</td>\n",
       "      <td>BEVERAGES</td>\n",
       "      <td>0.0</td>\n",
       "      <td>0</td>\n",
       "    </tr>\n",
       "    <tr>\n",
       "      <th>4</th>\n",
       "      <td>4</td>\n",
       "      <td>2013-01-01</td>\n",
       "      <td>1</td>\n",
       "      <td>BOOKS</td>\n",
       "      <td>0.0</td>\n",
       "      <td>0</td>\n",
       "    </tr>\n",
       "  </tbody>\n",
       "</table>\n",
       "</div>"
      ],
      "text/plain": [
       "   id        date  store_nbr      family  sales  onpromotion\n",
       "0   0  2013-01-01          1  AUTOMOTIVE    0.0            0\n",
       "1   1  2013-01-01          1   BABY CARE    0.0            0\n",
       "2   2  2013-01-01          1      BEAUTY    0.0            0\n",
       "3   3  2013-01-01          1   BEVERAGES    0.0            0\n",
       "4   4  2013-01-01          1       BOOKS    0.0            0"
      ]
     },
     "execution_count": 46,
     "metadata": {},
     "output_type": "execute_result"
    }
   ],
   "source": [
    "train.head()\n",
    "\n",
    "# looks like test dataset is where we make prediction and fill out the \"sales column\"\n",
    "# then have the id and sales columns exported like sample_submission file"
   ]
  },
  {
   "cell_type": "markdown",
   "id": "c7b5c528",
   "metadata": {},
   "source": [
    "#### data types"
   ]
  },
  {
   "cell_type": "code",
   "execution_count": 47,
   "id": "ce877e59",
   "metadata": {},
   "outputs": [
    {
     "data": {
      "text/plain": [
       "id               int64\n",
       "date            object\n",
       "store_nbr        int64\n",
       "family          object\n",
       "sales          float64\n",
       "onpromotion      int64\n",
       "dtype: object"
      ]
     },
     "execution_count": 47,
     "metadata": {},
     "output_type": "execute_result"
    }
   ],
   "source": [
    "# data types\n",
    "train.dtypes"
   ]
  },
  {
   "cell_type": "code",
   "execution_count": 48,
   "id": "317c3373",
   "metadata": {},
   "outputs": [],
   "source": [
    "train['date'] = pd.to_datetime(train['date'])"
   ]
  },
  {
   "cell_type": "code",
   "execution_count": 49,
   "id": "1219c189",
   "metadata": {},
   "outputs": [
    {
     "data": {
      "text/plain": [
       "id                      int64\n",
       "date           datetime64[ns]\n",
       "store_nbr               int64\n",
       "family                 object\n",
       "sales                 float64\n",
       "onpromotion             int64\n",
       "dtype: object"
      ]
     },
     "execution_count": 49,
     "metadata": {},
     "output_type": "execute_result"
    }
   ],
   "source": [
    "# check new datatypes\n",
    "train.dtypes"
   ]
  },
  {
   "cell_type": "markdown",
   "id": "71197ed8",
   "metadata": {},
   "source": [
    "#### null values"
   ]
  },
  {
   "cell_type": "code",
   "execution_count": 50,
   "id": "7c3ffe5f",
   "metadata": {},
   "outputs": [
    {
     "data": {
      "text/plain": [
       "id             0\n",
       "date           0\n",
       "store_nbr      0\n",
       "family         0\n",
       "sales          0\n",
       "onpromotion    0\n",
       "dtype: int64"
      ]
     },
     "execution_count": 50,
     "metadata": {},
     "output_type": "execute_result"
    }
   ],
   "source": [
    "# null values\n",
    "train.isnull().sum()"
   ]
  },
  {
   "cell_type": "code",
   "execution_count": 51,
   "id": "c858af16",
   "metadata": {},
   "outputs": [
    {
     "name": "stdout",
     "output_type": "stream",
     "text": [
      "DatetimeIndex(['2013-12-25', '2014-12-25', '2015-12-25', '2016-12-25'], dtype='datetime64[ns]', freq=None)\n"
     ]
    }
   ],
   "source": [
    "# check if there's missing dates\n",
    "dates_in_train = train['date'].unique()\n",
    "print(pd.date_range(start=train.select_dtypes(include='datetime').min()[0], end=train.select_dtypes(include='datetime').max()[0]).difference(dates_in_train))"
   ]
  },
  {
   "cell_type": "code",
   "execution_count": 52,
   "id": "a7f16647",
   "metadata": {},
   "outputs": [],
   "source": [
    "# help, what should I do with missing dates?"
   ]
  },
  {
   "cell_type": "markdown",
   "id": "04cd93fd",
   "metadata": {},
   "source": [
    "#### summary data"
   ]
  },
  {
   "cell_type": "code",
   "execution_count": 53,
   "id": "3215e9e2",
   "metadata": {},
   "outputs": [
    {
     "data": {
      "text/html": [
       "<div>\n",
       "<style scoped>\n",
       "    .dataframe tbody tr th:only-of-type {\n",
       "        vertical-align: middle;\n",
       "    }\n",
       "\n",
       "    .dataframe tbody tr th {\n",
       "        vertical-align: top;\n",
       "    }\n",
       "\n",
       "    .dataframe thead th {\n",
       "        text-align: right;\n",
       "    }\n",
       "</style>\n",
       "<table border=\"1\" class=\"dataframe\">\n",
       "  <thead>\n",
       "    <tr style=\"text-align: right;\">\n",
       "      <th></th>\n",
       "      <th>id</th>\n",
       "      <th>store_nbr</th>\n",
       "      <th>sales</th>\n",
       "      <th>onpromotion</th>\n",
       "    </tr>\n",
       "  </thead>\n",
       "  <tbody>\n",
       "    <tr>\n",
       "      <th>count</th>\n",
       "      <td>3.000888e+06</td>\n",
       "      <td>3.000888e+06</td>\n",
       "      <td>3.000888e+06</td>\n",
       "      <td>3.000888e+06</td>\n",
       "    </tr>\n",
       "    <tr>\n",
       "      <th>mean</th>\n",
       "      <td>1.500444e+06</td>\n",
       "      <td>2.750000e+01</td>\n",
       "      <td>3.577757e+02</td>\n",
       "      <td>2.602770e+00</td>\n",
       "    </tr>\n",
       "    <tr>\n",
       "      <th>std</th>\n",
       "      <td>8.662819e+05</td>\n",
       "      <td>1.558579e+01</td>\n",
       "      <td>1.101998e+03</td>\n",
       "      <td>1.221888e+01</td>\n",
       "    </tr>\n",
       "    <tr>\n",
       "      <th>min</th>\n",
       "      <td>0.000000e+00</td>\n",
       "      <td>1.000000e+00</td>\n",
       "      <td>0.000000e+00</td>\n",
       "      <td>0.000000e+00</td>\n",
       "    </tr>\n",
       "    <tr>\n",
       "      <th>25%</th>\n",
       "      <td>7.502218e+05</td>\n",
       "      <td>1.400000e+01</td>\n",
       "      <td>0.000000e+00</td>\n",
       "      <td>0.000000e+00</td>\n",
       "    </tr>\n",
       "    <tr>\n",
       "      <th>50%</th>\n",
       "      <td>1.500444e+06</td>\n",
       "      <td>2.750000e+01</td>\n",
       "      <td>1.100000e+01</td>\n",
       "      <td>0.000000e+00</td>\n",
       "    </tr>\n",
       "    <tr>\n",
       "      <th>75%</th>\n",
       "      <td>2.250665e+06</td>\n",
       "      <td>4.100000e+01</td>\n",
       "      <td>1.958473e+02</td>\n",
       "      <td>0.000000e+00</td>\n",
       "    </tr>\n",
       "    <tr>\n",
       "      <th>max</th>\n",
       "      <td>3.000887e+06</td>\n",
       "      <td>5.400000e+01</td>\n",
       "      <td>1.247170e+05</td>\n",
       "      <td>7.410000e+02</td>\n",
       "    </tr>\n",
       "  </tbody>\n",
       "</table>\n",
       "</div>"
      ],
      "text/plain": [
       "                 id     store_nbr         sales   onpromotion\n",
       "count  3.000888e+06  3.000888e+06  3.000888e+06  3.000888e+06\n",
       "mean   1.500444e+06  2.750000e+01  3.577757e+02  2.602770e+00\n",
       "std    8.662819e+05  1.558579e+01  1.101998e+03  1.221888e+01\n",
       "min    0.000000e+00  1.000000e+00  0.000000e+00  0.000000e+00\n",
       "25%    7.502218e+05  1.400000e+01  0.000000e+00  0.000000e+00\n",
       "50%    1.500444e+06  2.750000e+01  1.100000e+01  0.000000e+00\n",
       "75%    2.250665e+06  4.100000e+01  1.958473e+02  0.000000e+00\n",
       "max    3.000887e+06  5.400000e+01  1.247170e+05  7.410000e+02"
      ]
     },
     "execution_count": 53,
     "metadata": {},
     "output_type": "execute_result"
    }
   ],
   "source": [
    "train.select_dtypes(include=np.number).describe()\n",
    "# not too sure what the onpromotion means, maybe it's items on promotion?"
   ]
  },
  {
   "cell_type": "code",
   "execution_count": 54,
   "id": "268eb331",
   "metadata": {},
   "outputs": [
    {
     "name": "stdout",
     "output_type": "stream",
     "text": [
      "There are 1684 distinct datetime in the test dataset, with 2013-01-01 00:00:00 as smallest data, 2017-08-15 00:00:00 as largest date.\n"
     ]
    }
   ],
   "source": [
    "print('There are {} distinct datetime in the test dataset, with {} as smallest data, {} as largest date.'.format(train.select_dtypes(include='datetime').nunique()[0], train.select_dtypes(include='datetime').min()[0], train.select_dtypes(include='datetime').max()[0]))"
   ]
  },
  {
   "cell_type": "code",
   "execution_count": 55,
   "id": "ddb1d3c7",
   "metadata": {},
   "outputs": [
    {
     "data": {
      "text/plain": [
       "4.6136986301369864"
      ]
     },
     "execution_count": 55,
     "metadata": {},
     "output_type": "execute_result"
    }
   ],
   "source": [
    "1684/365"
   ]
  },
  {
   "cell_type": "code",
   "execution_count": 56,
   "id": "cd23afd9",
   "metadata": {},
   "outputs": [
    {
     "data": {
      "text/html": [
       "<div>\n",
       "<style scoped>\n",
       "    .dataframe tbody tr th:only-of-type {\n",
       "        vertical-align: middle;\n",
       "    }\n",
       "\n",
       "    .dataframe tbody tr th {\n",
       "        vertical-align: top;\n",
       "    }\n",
       "\n",
       "    .dataframe thead th {\n",
       "        text-align: right;\n",
       "    }\n",
       "</style>\n",
       "<table border=\"1\" class=\"dataframe\">\n",
       "  <thead>\n",
       "    <tr style=\"text-align: right;\">\n",
       "      <th></th>\n",
       "      <th>id</th>\n",
       "      <th>date</th>\n",
       "      <th>store_nbr</th>\n",
       "      <th>family</th>\n",
       "      <th>sales</th>\n",
       "      <th>onpromotion</th>\n",
       "    </tr>\n",
       "  </thead>\n",
       "  <tbody>\n",
       "    <tr>\n",
       "      <th>0</th>\n",
       "      <td>0</td>\n",
       "      <td>2013-01-01</td>\n",
       "      <td>1</td>\n",
       "      <td>AUTOMOTIVE</td>\n",
       "      <td>0.0</td>\n",
       "      <td>0</td>\n",
       "    </tr>\n",
       "    <tr>\n",
       "      <th>1</th>\n",
       "      <td>1</td>\n",
       "      <td>2013-01-01</td>\n",
       "      <td>1</td>\n",
       "      <td>BABY CARE</td>\n",
       "      <td>0.0</td>\n",
       "      <td>0</td>\n",
       "    </tr>\n",
       "    <tr>\n",
       "      <th>2</th>\n",
       "      <td>2</td>\n",
       "      <td>2013-01-01</td>\n",
       "      <td>1</td>\n",
       "      <td>BEAUTY</td>\n",
       "      <td>0.0</td>\n",
       "      <td>0</td>\n",
       "    </tr>\n",
       "    <tr>\n",
       "      <th>3</th>\n",
       "      <td>3</td>\n",
       "      <td>2013-01-01</td>\n",
       "      <td>1</td>\n",
       "      <td>BEVERAGES</td>\n",
       "      <td>0.0</td>\n",
       "      <td>0</td>\n",
       "    </tr>\n",
       "    <tr>\n",
       "      <th>4</th>\n",
       "      <td>4</td>\n",
       "      <td>2013-01-01</td>\n",
       "      <td>1</td>\n",
       "      <td>BOOKS</td>\n",
       "      <td>0.0</td>\n",
       "      <td>0</td>\n",
       "    </tr>\n",
       "  </tbody>\n",
       "</table>\n",
       "</div>"
      ],
      "text/plain": [
       "   id       date  store_nbr      family  sales  onpromotion\n",
       "0   0 2013-01-01          1  AUTOMOTIVE    0.0            0\n",
       "1   1 2013-01-01          1   BABY CARE    0.0            0\n",
       "2   2 2013-01-01          1      BEAUTY    0.0            0\n",
       "3   3 2013-01-01          1   BEVERAGES    0.0            0\n",
       "4   4 2013-01-01          1       BOOKS    0.0            0"
      ]
     },
     "execution_count": 56,
     "metadata": {},
     "output_type": "execute_result"
    }
   ],
   "source": [
    "train.head()"
   ]
  },
  {
   "cell_type": "code",
   "execution_count": 57,
   "id": "6ef852e7",
   "metadata": {},
   "outputs": [
    {
     "data": {
      "image/png": "[encoded data removed]",
      "text/plain": [
       "<Figure size 432x288 with 1 Axes>"
      ]
     },
     "metadata": {
      "needs_background": "light"
     },
     "output_type": "display_data"
    }
   ],
   "source": [
    "df_plot = pd.pivot_table(train, values='sales', index='date', aggfunc='sum')\n",
    "df_plot.plot(legend=None)\n",
    "plt.title('sales over time')\n",
    "plt.show()"
   ]
  },
  {
   "cell_type": "code",
   "execution_count": 58,
   "id": "1e0235c3",
   "metadata": {},
   "outputs": [
    {
     "data": {
      "text/html": [
       "<div>\n",
       "<style scoped>\n",
       "    .dataframe tbody tr th:only-of-type {\n",
       "        vertical-align: middle;\n",
       "    }\n",
       "\n",
       "    .dataframe tbody tr th {\n",
       "        vertical-align: top;\n",
       "    }\n",
       "\n",
       "    .dataframe thead th {\n",
       "        text-align: right;\n",
       "    }\n",
       "</style>\n",
       "<table border=\"1\" class=\"dataframe\">\n",
       "  <thead>\n",
       "    <tr style=\"text-align: right;\">\n",
       "      <th></th>\n",
       "      <th>sales</th>\n",
       "    </tr>\n",
       "    <tr>\n",
       "      <th>year</th>\n",
       "      <th></th>\n",
       "    </tr>\n",
       "  </thead>\n",
       "  <tbody>\n",
       "    <tr>\n",
       "      <th>2013</th>\n",
       "      <td>1.404190e+08</td>\n",
       "    </tr>\n",
       "    <tr>\n",
       "      <th>2014</th>\n",
       "      <td>2.094742e+08</td>\n",
       "    </tr>\n",
       "    <tr>\n",
       "      <th>2015</th>\n",
       "      <td>2.408801e+08</td>\n",
       "    </tr>\n",
       "    <tr>\n",
       "      <th>2016</th>\n",
       "      <td>2.886545e+08</td>\n",
       "    </tr>\n",
       "    <tr>\n",
       "      <th>2017</th>\n",
       "      <td>1.942171e+08</td>\n",
       "    </tr>\n",
       "  </tbody>\n",
       "</table>\n",
       "</div>"
      ],
      "text/plain": [
       "             sales\n",
       "year              \n",
       "2013  1.404190e+08\n",
       "2014  2.094742e+08\n",
       "2015  2.408801e+08\n",
       "2016  2.886545e+08\n",
       "2017  1.942171e+08"
      ]
     },
     "execution_count": 58,
     "metadata": {},
     "output_type": "execute_result"
    }
   ],
   "source": [
    "df = train\n",
    "df['year'] = pd.DatetimeIndex(df['date']).year\n",
    "df['month'] = pd.DatetimeIndex(df['date']).month\n",
    "\n",
    "# sales per year\n",
    "df.groupby('year').agg({'sales':'sum'})"
   ]
  },
  {
   "cell_type": "code",
   "execution_count": 59,
   "id": "e2d2a5e8",
   "metadata": {},
   "outputs": [
    {
     "data": {
      "text/html": [
       "<div>\n",
       "<style scoped>\n",
       "    .dataframe tbody tr th:only-of-type {\n",
       "        vertical-align: middle;\n",
       "    }\n",
       "\n",
       "    .dataframe tbody tr th {\n",
       "        vertical-align: top;\n",
       "    }\n",
       "\n",
       "    .dataframe thead th {\n",
       "        text-align: right;\n",
       "    }\n",
       "</style>\n",
       "<table border=\"1\" class=\"dataframe\">\n",
       "  <thead>\n",
       "    <tr style=\"text-align: right;\">\n",
       "      <th></th>\n",
       "      <th>sales</th>\n",
       "    </tr>\n",
       "    <tr>\n",
       "      <th>month</th>\n",
       "      <th></th>\n",
       "    </tr>\n",
       "  </thead>\n",
       "  <tbody>\n",
       "    <tr>\n",
       "      <th>1</th>\n",
       "      <td>6.811399e+07</td>\n",
       "    </tr>\n",
       "    <tr>\n",
       "      <th>2</th>\n",
       "      <td>5.738712e+07</td>\n",
       "    </tr>\n",
       "    <tr>\n",
       "      <th>3</th>\n",
       "      <td>7.052447e+07</td>\n",
       "    </tr>\n",
       "    <tr>\n",
       "      <th>4</th>\n",
       "      <td>6.477281e+07</td>\n",
       "    </tr>\n",
       "    <tr>\n",
       "      <th>5</th>\n",
       "      <td>6.748729e+07</td>\n",
       "    </tr>\n",
       "    <tr>\n",
       "      <th>6</th>\n",
       "      <td>6.883388e+07</td>\n",
       "    </tr>\n",
       "    <tr>\n",
       "      <th>7</th>\n",
       "      <td>7.635158e+07</td>\n",
       "    </tr>\n",
       "    <tr>\n",
       "      <th>8</th>\n",
       "      <td>7.103905e+07</td>\n",
       "    </tr>\n",
       "    <tr>\n",
       "      <th>9</th>\n",
       "      <td>7.747368e+07</td>\n",
       "    </tr>\n",
       "    <tr>\n",
       "      <th>10</th>\n",
       "      <td>8.008038e+07</td>\n",
       "    </tr>\n",
       "    <tr>\n",
       "      <th>11</th>\n",
       "      <td>8.033579e+07</td>\n",
       "    </tr>\n",
       "    <tr>\n",
       "      <th>12</th>\n",
       "      <td>9.702784e+07</td>\n",
       "    </tr>\n",
       "  </tbody>\n",
       "</table>\n",
       "</div>"
      ],
      "text/plain": [
       "              sales\n",
       "month              \n",
       "1      6.811399e+07\n",
       "2      5.738712e+07\n",
       "3      7.052447e+07\n",
       "4      6.477281e+07\n",
       "5      6.748729e+07\n",
       "6      6.883388e+07\n",
       "7      7.635158e+07\n",
       "8      7.103905e+07\n",
       "9      7.747368e+07\n",
       "10     8.008038e+07\n",
       "11     8.033579e+07\n",
       "12     9.702784e+07"
      ]
     },
     "execution_count": 59,
     "metadata": {},
     "output_type": "execute_result"
    }
   ],
   "source": [
    "# sales per month\n",
    "# excluding 2017 because there are only data till august for 2017\n",
    "df[df['year'] < 2017].groupby('month').agg({'sales':'sum'})"
   ]
  },
  {
   "cell_type": "code",
   "execution_count": 77,
   "id": "f1eaed96",
   "metadata": {},
   "outputs": [
    {
     "data": {
      "text/plain": [
       "33"
      ]
     },
     "execution_count": 77,
     "metadata": {},
     "output_type": "execute_result"
    }
   ],
   "source": [
    "train['family'].nunique()"
   ]
  },
  {
   "cell_type": "code",
   "execution_count": 69,
   "id": "6a843beb",
   "metadata": {},
   "outputs": [
    {
     "data": {
      "text/html": [
       "<div>\n",
       "<style scoped>\n",
       "    .dataframe tbody tr th:only-of-type {\n",
       "        vertical-align: middle;\n",
       "    }\n",
       "\n",
       "    .dataframe tbody tr th {\n",
       "        vertical-align: top;\n",
       "    }\n",
       "\n",
       "    .dataframe thead th {\n",
       "        text-align: right;\n",
       "    }\n",
       "</style>\n",
       "<table border=\"1\" class=\"dataframe\">\n",
       "  <thead>\n",
       "    <tr style=\"text-align: right;\">\n",
       "      <th></th>\n",
       "      <th>sales</th>\n",
       "    </tr>\n",
       "    <tr>\n",
       "      <th>family</th>\n",
       "      <th></th>\n",
       "    </tr>\n",
       "  </thead>\n",
       "  <tbody>\n",
       "    <tr>\n",
       "      <th>GROCERY I</th>\n",
       "      <td>3.434627e+08</td>\n",
       "    </tr>\n",
       "    <tr>\n",
       "      <th>BEVERAGES</th>\n",
       "      <td>2.169545e+08</td>\n",
       "    </tr>\n",
       "    <tr>\n",
       "      <th>PRODUCE</th>\n",
       "      <td>1.227047e+08</td>\n",
       "    </tr>\n",
       "    <tr>\n",
       "      <th>CLEANING</th>\n",
       "      <td>9.752129e+07</td>\n",
       "    </tr>\n",
       "    <tr>\n",
       "      <th>DAIRY</th>\n",
       "      <td>6.448771e+07</td>\n",
       "    </tr>\n",
       "    <tr>\n",
       "      <th>BREAD/BAKERY</th>\n",
       "      <td>4.213395e+07</td>\n",
       "    </tr>\n",
       "    <tr>\n",
       "      <th>POULTRY</th>\n",
       "      <td>3.187600e+07</td>\n",
       "    </tr>\n",
       "    <tr>\n",
       "      <th>MEATS</th>\n",
       "      <td>3.108647e+07</td>\n",
       "    </tr>\n",
       "    <tr>\n",
       "      <th>PERSONAL CARE</th>\n",
       "      <td>2.459205e+07</td>\n",
       "    </tr>\n",
       "    <tr>\n",
       "      <th>DELI</th>\n",
       "      <td>2.411032e+07</td>\n",
       "    </tr>\n",
       "    <tr>\n",
       "      <th>HOME CARE</th>\n",
       "      <td>1.602274e+07</td>\n",
       "    </tr>\n",
       "    <tr>\n",
       "      <th>EGGS</th>\n",
       "      <td>1.558830e+07</td>\n",
       "    </tr>\n",
       "    <tr>\n",
       "      <th>FROZEN FOODS</th>\n",
       "      <td>1.407389e+07</td>\n",
       "    </tr>\n",
       "    <tr>\n",
       "      <th>PREPARED FOODS</th>\n",
       "      <td>8.799895e+06</td>\n",
       "    </tr>\n",
       "    <tr>\n",
       "      <th>LIQUOR,WINE,BEER</th>\n",
       "      <td>7.746640e+06</td>\n",
       "    </tr>\n",
       "    <tr>\n",
       "      <th>SEAFOOD</th>\n",
       "      <td>2.015432e+06</td>\n",
       "    </tr>\n",
       "    <tr>\n",
       "      <th>GROCERY II</th>\n",
       "      <td>1.962767e+06</td>\n",
       "    </tr>\n",
       "    <tr>\n",
       "      <th>HOME AND KITCHEN I</th>\n",
       "      <td>1.861491e+06</td>\n",
       "    </tr>\n",
       "    <tr>\n",
       "      <th>HOME AND KITCHEN II</th>\n",
       "      <td>1.520670e+06</td>\n",
       "    </tr>\n",
       "    <tr>\n",
       "      <th>CELEBRATION</th>\n",
       "      <td>7.611770e+05</td>\n",
       "    </tr>\n",
       "    <tr>\n",
       "      <th>LINGERIE</th>\n",
       "      <td>6.531140e+05</td>\n",
       "    </tr>\n",
       "    <tr>\n",
       "      <th>LADIESWEAR</th>\n",
       "      <td>6.511590e+05</td>\n",
       "    </tr>\n",
       "    <tr>\n",
       "      <th>PLAYERS AND ELECTRONICS</th>\n",
       "      <td>5.626080e+05</td>\n",
       "    </tr>\n",
       "    <tr>\n",
       "      <th>AUTOMOTIVE</th>\n",
       "      <td>5.548220e+05</td>\n",
       "    </tr>\n",
       "    <tr>\n",
       "      <th>LAWN AND GARDEN</th>\n",
       "      <td>5.488420e+05</td>\n",
       "    </tr>\n",
       "    <tr>\n",
       "      <th>PET SUPPLIES</th>\n",
       "      <td>3.565840e+05</td>\n",
       "    </tr>\n",
       "    <tr>\n",
       "      <th>BEAUTY</th>\n",
       "      <td>3.378930e+05</td>\n",
       "    </tr>\n",
       "    <tr>\n",
       "      <th>SCHOOL AND OFFICE SUPPLIES</th>\n",
       "      <td>2.693160e+05</td>\n",
       "    </tr>\n",
       "    <tr>\n",
       "      <th>MAGAZINES</th>\n",
       "      <td>2.663590e+05</td>\n",
       "    </tr>\n",
       "    <tr>\n",
       "      <th>HARDWARE</th>\n",
       "      <td>1.034700e+05</td>\n",
       "    </tr>\n",
       "    <tr>\n",
       "      <th>HOME APPLIANCES</th>\n",
       "      <td>4.160100e+04</td>\n",
       "    </tr>\n",
       "    <tr>\n",
       "      <th>BABY CARE</th>\n",
       "      <td>1.005100e+04</td>\n",
       "    </tr>\n",
       "    <tr>\n",
       "      <th>BOOKS</th>\n",
       "      <td>6.438000e+03</td>\n",
       "    </tr>\n",
       "  </tbody>\n",
       "</table>\n",
       "</div>"
      ],
      "text/plain": [
       "                                   sales\n",
       "family                                  \n",
       "GROCERY I                   3.434627e+08\n",
       "BEVERAGES                   2.169545e+08\n",
       "PRODUCE                     1.227047e+08\n",
       "CLEANING                    9.752129e+07\n",
       "DAIRY                       6.448771e+07\n",
       "BREAD/BAKERY                4.213395e+07\n",
       "POULTRY                     3.187600e+07\n",
       "MEATS                       3.108647e+07\n",
       "PERSONAL CARE               2.459205e+07\n",
       "DELI                        2.411032e+07\n",
       "HOME CARE                   1.602274e+07\n",
       "EGGS                        1.558830e+07\n",
       "FROZEN FOODS                1.407389e+07\n",
       "PREPARED FOODS              8.799895e+06\n",
       "LIQUOR,WINE,BEER            7.746640e+06\n",
       "SEAFOOD                     2.015432e+06\n",
       "GROCERY II                  1.962767e+06\n",
       "HOME AND KITCHEN I          1.861491e+06\n",
       "HOME AND KITCHEN II         1.520670e+06\n",
       "CELEBRATION                 7.611770e+05\n",
       "LINGERIE                    6.531140e+05\n",
       "LADIESWEAR                  6.511590e+05\n",
       "PLAYERS AND ELECTRONICS     5.626080e+05\n",
       "AUTOMOTIVE                  5.548220e+05\n",
       "LAWN AND GARDEN             5.488420e+05\n",
       "PET SUPPLIES                3.565840e+05\n",
       "BEAUTY                      3.378930e+05\n",
       "SCHOOL AND OFFICE SUPPLIES  2.693160e+05\n",
       "MAGAZINES                   2.663590e+05\n",
       "HARDWARE                    1.034700e+05\n",
       "HOME APPLIANCES             4.160100e+04\n",
       "BABY CARE                   1.005100e+04\n",
       "BOOKS                       6.438000e+03"
      ]
     },
     "execution_count": 69,
     "metadata": {},
     "output_type": "execute_result"
    }
   ],
   "source": [
    "pd.pivot_table(train, values='sales', index='family', aggfunc='sum').sort_values('sales', ascending=False)"
   ]
  },
  {
   "cell_type": "code",
   "execution_count": 111,
   "id": "be24f066",
   "metadata": {
    "scrolled": false
   },
   "outputs": [
    {
     "data": {
      "image/png": "[encoded data removed]",
      "text/plain": [
       "<Figure size 1296x3168 with 33 Axes>"
      ]
     },
     "metadata": {
      "needs_background": "light"
     },
     "output_type": "display_data"
    },
    {
     "data": {
      "text/plain": [
       "<Figure size 432x288 with 0 Axes>"
      ]
     },
     "metadata": {},
     "output_type": "display_data"
    }
   ],
   "source": [
    "df_plot = pd.pivot_table(train, values='sales', index=['family', 'year'], aggfunc='sum').reset_index()\n",
    "\n",
    "fig, axes = plt.subplots(nrows=11, ncols=3, figsize=(18, 44))\n",
    "\n",
    "col_title = 0\n",
    "for f, ax in zip(df_plot['family'].unique(), axes.flatten()):\n",
    "    ax.bar(df_plot[df_plot['family'] == f]['year'], df_plot[df_plot['family'] == f]['sales'])\n",
    "    ax.set_title(f, fontsize=10)\n",
    "    plt.subplots_adjust(wspace=.5, hspace=.5)\n",
    "plt.show()\n",
    "\n",
    "plt.suptitle('sales per category over time')\n",
    "plt.show()"
   ]
  },
  {
   "cell_type": "markdown",
   "id": "90e41417",
   "metadata": {},
   "source": [
    "looks like each product family has a different trend. note: 2017 has only data up till august."
   ]
  },
  {
   "cell_type": "markdown",
   "id": "6210a419",
   "metadata": {},
   "source": [
    "### transaction\n",
    "#### This dataframe contains 83488 rows, and 3 columns\n",
    "\n",
    "Official description:\n",
    "- Wages in the public sector are paid every two weeks on the 15 th and on the last day of the month. Supermarket sales could be affected by this.\n",
    "- A magnitude 7.8 earthquake struck Ecuador on April 16, 2016. People rallied in relief efforts donating water and other first need products which greatly affected supermarket sales for several weeks after the earthquake."
   ]
  },
  {
   "cell_type": "code",
   "execution_count": 113,
   "id": "7b2b2d2a",
   "metadata": {},
   "outputs": [
    {
     "data": {
      "text/plain": [
       "Index(['date', 'store_nbr', 'transactions'], dtype='object')"
      ]
     },
     "execution_count": 113,
     "metadata": {},
     "output_type": "execute_result"
    }
   ],
   "source": [
    "transactions.columns"
   ]
  },
  {
   "cell_type": "code",
   "execution_count": 120,
   "id": "58d947b8",
   "metadata": {},
   "outputs": [
    {
     "data": {
      "text/html": [
       "<div>\n",
       "<style scoped>\n",
       "    .dataframe tbody tr th:only-of-type {\n",
       "        vertical-align: middle;\n",
       "    }\n",
       "\n",
       "    .dataframe tbody tr th {\n",
       "        vertical-align: top;\n",
       "    }\n",
       "\n",
       "    .dataframe thead th {\n",
       "        text-align: right;\n",
       "    }\n",
       "</style>\n",
       "<table border=\"1\" class=\"dataframe\">\n",
       "  <thead>\n",
       "    <tr style=\"text-align: right;\">\n",
       "      <th></th>\n",
       "      <th>date</th>\n",
       "      <th>store_nbr</th>\n",
       "      <th>transactions</th>\n",
       "    </tr>\n",
       "  </thead>\n",
       "  <tbody>\n",
       "    <tr>\n",
       "      <th>0</th>\n",
       "      <td>2013-01-01</td>\n",
       "      <td>25</td>\n",
       "      <td>770</td>\n",
       "    </tr>\n",
       "    <tr>\n",
       "      <th>1</th>\n",
       "      <td>2013-01-02</td>\n",
       "      <td>1</td>\n",
       "      <td>2111</td>\n",
       "    </tr>\n",
       "    <tr>\n",
       "      <th>2</th>\n",
       "      <td>2013-01-02</td>\n",
       "      <td>2</td>\n",
       "      <td>2358</td>\n",
       "    </tr>\n",
       "    <tr>\n",
       "      <th>3</th>\n",
       "      <td>2013-01-02</td>\n",
       "      <td>3</td>\n",
       "      <td>3487</td>\n",
       "    </tr>\n",
       "    <tr>\n",
       "      <th>4</th>\n",
       "      <td>2013-01-02</td>\n",
       "      <td>4</td>\n",
       "      <td>1922</td>\n",
       "    </tr>\n",
       "  </tbody>\n",
       "</table>\n",
       "</div>"
      ],
      "text/plain": [
       "        date  store_nbr  transactions\n",
       "0 2013-01-01         25           770\n",
       "1 2013-01-02          1          2111\n",
       "2 2013-01-02          2          2358\n",
       "3 2013-01-02          3          3487\n",
       "4 2013-01-02          4          1922"
      ]
     },
     "execution_count": 120,
     "metadata": {},
     "output_type": "execute_result"
    }
   ],
   "source": [
    "transactions.head()"
   ]
  },
  {
   "cell_type": "markdown",
   "id": "02328930",
   "metadata": {},
   "source": [
    "#### data types"
   ]
  },
  {
   "cell_type": "code",
   "execution_count": 117,
   "id": "596ae1a4",
   "metadata": {},
   "outputs": [
    {
     "data": {
      "text/plain": [
       "date            object\n",
       "store_nbr        int64\n",
       "transactions     int64\n",
       "dtype: object"
      ]
     },
     "execution_count": 117,
     "metadata": {},
     "output_type": "execute_result"
    }
   ],
   "source": [
    "transactions.dtypes"
   ]
  },
  {
   "cell_type": "code",
   "execution_count": 119,
   "id": "0f476469",
   "metadata": {},
   "outputs": [],
   "source": [
    "transactions['date'] = pd.to_datetime(transactions['date'])"
   ]
  },
  {
   "cell_type": "code",
   "execution_count": 121,
   "id": "933d168b",
   "metadata": {},
   "outputs": [
    {
     "data": {
      "text/plain": [
       "date            datetime64[ns]\n",
       "store_nbr                int64\n",
       "transactions             int64\n",
       "dtype: object"
      ]
     },
     "execution_count": 121,
     "metadata": {},
     "output_type": "execute_result"
    }
   ],
   "source": [
    "transactions.dtypes"
   ]
  },
  {
   "cell_type": "markdown",
   "id": "1dc80bc1",
   "metadata": {},
   "source": [
    "#### null values"
   ]
  },
  {
   "cell_type": "code",
   "execution_count": 122,
   "id": "ba47e86b",
   "metadata": {},
   "outputs": [
    {
     "data": {
      "text/plain": [
       "date            0\n",
       "store_nbr       0\n",
       "transactions    0\n",
       "dtype: int64"
      ]
     },
     "execution_count": 122,
     "metadata": {},
     "output_type": "execute_result"
    }
   ],
   "source": [
    "transactions.isnull().sum()"
   ]
  },
  {
   "cell_type": "code",
   "execution_count": 123,
   "id": "eef413a8",
   "metadata": {},
   "outputs": [
    {
     "name": "stdout",
     "output_type": "stream",
     "text": [
      "DatetimeIndex(['2013-12-25', '2014-12-25', '2015-12-25', '2016-01-01',\n",
      "               '2016-01-03', '2016-12-25'],\n",
      "              dtype='datetime64[ns]', freq=None)\n"
     ]
    }
   ],
   "source": [
    "# check if there's missing dates\n",
    "dates_in_transactions = transactions['date'].unique()\n",
    "print(pd.date_range(start=transactions.select_dtypes(include='datetime').min()[0], end=transactions.select_dtypes(include='datetime').max()[0]).difference(dates_in_transactions))"
   ]
  },
  {
   "cell_type": "code",
   "execution_count": 124,
   "id": "a176af3a",
   "metadata": {},
   "outputs": [],
   "source": [
    "# help missing dates again.. should I fill it? or leave it as null"
   ]
  },
  {
   "cell_type": "markdown",
   "id": "c0b5e5e0",
   "metadata": {},
   "source": [
    "#### summary data"
   ]
  },
  {
   "cell_type": "code",
   "execution_count": 126,
   "id": "9d30df1f",
   "metadata": {},
   "outputs": [
    {
     "data": {
      "image/png": "[encoded data removed]",
      "text/plain": [
       "<Figure size 432x288 with 1 Axes>"
      ]
     },
     "metadata": {
      "needs_background": "light"
     },
     "output_type": "display_data"
    }
   ],
   "source": [
    "df_plot = transactions.pivot_table(index='date', values='transactions', aggfunc='sum')\n",
    "df_plot.plot()\n",
    "plt.show()"
   ]
  },
  {
   "cell_type": "code",
   "execution_count": 127,
   "id": "5d3ba5d7",
   "metadata": {},
   "outputs": [],
   "source": [
    "# to-do what are the average cost per transaction? "
   ]
  },
  {
   "cell_type": "markdown",
   "id": "0bdbe7a2",
   "metadata": {},
   "source": [
    "# to-do:\n",
    "\n",
    "eda: features:\n",
    "- holiday (boolean) are there different holidays that has an impact?\n",
    "- oil prices (increased decrease? how do we encode it?\n",
    "- store -- prediction by store\n",
    "- transaction count -- does the transaction number matter for redicting revenue? -- this is not a feature because it's not something that's provided in the test data\n",
    "- sale -- if there's a sale for that day for that store for that category\n",
    "- category -- what is the category\n",
    "\n",
    "(regression with decision tree) - gradient boost, xg boost\n",
    "fb prophet\n",
    "\n",
    "\n",
    "1. combine holidays event with day\n",
    "2. number of transaction per store per day (combine with holidays, oil prices,) --> use this in replacement of train\n",
    "3. need to modify the testing data so I can use the test columns to test data.\n",
    "4. output: just the summarized prediction -- meaning that I will most likely need to create a custom pipeline.\n"
   ]
  }
 ],
 "metadata": {
  "kernelspec": {
   "display_name": "Python 3 (ipykernel)",
   "language": "python",
   "name": "python3"
  },
  "language_info": {
   "codemirror_mode": {
    "name": "ipython",
    "version": 3
   },
   "file_extension": ".py",
   "mimetype": "text/x-python",
   "name": "python",
   "nbconvert_exporter": "python",
   "pygments_lexer": "ipython3",
   "version": "3.9.5"
  }
 },
 "nbformat": 4,
 "nbformat_minor": 5
}
